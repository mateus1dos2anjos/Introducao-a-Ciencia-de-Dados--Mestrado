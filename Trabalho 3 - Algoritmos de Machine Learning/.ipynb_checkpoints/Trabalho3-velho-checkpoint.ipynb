{
 "cells": [
  {
   "cell_type": "code",
   "execution_count": 1,
   "metadata": {},
   "outputs": [],
   "source": [
    "# Nome: Francisco Mateus dos Anjos Silva\n",
    "# Matrícula: 521783\n",
    "# Disciplina: Introdução à Ciência de Dados\n",
    "# Trabalho 2: Análise Exploratória dos Dados"
   ]
  },
  {
   "cell_type": "markdown",
   "metadata": {},
   "source": [
    "# Predição de preços de carros\n",
    "\n",
    "### Descrição do problema e objetivos:\n",
    "\n",
    "#### A ideia deste Trabalho 2 é utilizar um dataset (Conjunto de dados de 100.000 carros usados no Reino Unido) que contém o nome de carros (modelo), seu preço e outros atributos de carros, e no Trabalho 3 construir modelos para predizer o preço de carros usados de acordo com suas features (ano, modelo, transmissão, quilometragem, tipo de combustível, imposto, consumo e tamanho do motor).\n",
    "\n",
    "### Descrição do dataset:\n",
    "\n",
    "#### Será utilizado o conjunto de dados ‘Conjunto de dados com cerca de 100 mil carros usados no Reino Unido’ (disponível em: https://www.kaggle.com/adityadesai13/used-car-dataset-ford-and-mercedes). Este conjunto de dados é composto por dados extraídos de listagens de carros usados. 100.000 anúncios que foram separados em arquivos correspondentes a cada fabricante de automóveis. \n",
    "\n",
    "#### Atributos:\n",
    " model: nome do modelo do carro\n",
    " \n",
    " year: ano de fabricação \n",
    " \n",
    " price: preço\n",
    " \n",
    " transmission: transmissão\n",
    " \n",
    " mileage: quilometragem \n",
    " \n",
    " fuelType: tipo de combustível\n",
    " \n",
    " tax: imposto sobre o carro\n",
    " \n",
    " mpg: milhas por galão de combustível\n",
    " \n",
    " engineSize: tamanho do motor "
   ]
  },
  {
   "cell_type": "markdown",
   "metadata": {},
   "source": [
    "###  Etapas\n",
    "#### 1 - Importação dos datasets\n",
    "#### 2 - Análise exploratória dos dados\n",
    "#### 3 - Pré-processamento dos dados\n",
    "#### 4 - Aplicação de modelos\n",
    "#### 5 - Avaliação dos modelos"
   ]
  },
  {
   "cell_type": "code",
   "execution_count": 2,
   "metadata": {},
   "outputs": [],
   "source": [
    "#2. Técnicas a serem utilizadas:\n",
    "\n",
    "#1. Métodos de Análise Estatística dos Dados:\n",
    "\n",
    "#a) OK - Medidas de Tendência Central\n",
    "#b) OK - Tabela de Frequência e Histograma\n",
    "#c) OK - Boxplot\n",
    "#d) OK - Correlações\n",
    "#e) OK - Teste de Normalidade\n",
    "#f) OK - Best Fit Distribution\n",
    "\n",
    "#2. Técnicas de Visualização de Dados\n",
    "\n",
    "#a) OK - Gráficos\n",
    "#b) Mapas\n",
    "#c) Nuvem de Palavras\n",
    "#d) Rede de Palavras\n",
    "#e) Redes Comp"
   ]
  },
  {
   "cell_type": "markdown",
   "metadata": {},
   "source": [
    "## Importação de bibliotecas"
   ]
  },
  {
   "cell_type": "code",
   "execution_count": 3,
   "metadata": {},
   "outputs": [],
   "source": [
    "import pandas as pd\n",
    "import numpy as np\n",
    "import matplotlib.pyplot as plt\n",
    "import math\n",
    "import scipy\n",
    "import scipy.stats\n",
    "\n",
    "from sklearn.model_selection import train_test_split\n",
    "from sklearn.preprocessing import StandardScaler, LabelEncoder\n",
    "from sklearn.metrics import mean_absolute_error, mean_squared_error\n",
    "from sklearn import tree, metrics\n",
    "from plotnine import *\n",
    "\n",
    "import glob\n",
    "import os\n",
    "\n",
    "import seaborn as sns\n",
    "\n",
    "import warnings\n",
    "warnings.filterwarnings('ignore')"
   ]
  },
  {
   "cell_type": "markdown",
   "metadata": {},
   "source": [
    "## 1 - Importação dos datasets"
   ]
  },
  {
   "cell_type": "code",
   "execution_count": 4,
   "metadata": {},
   "outputs": [
    {
     "data": {
      "text/html": [
       "<div>\n",
       "<style scoped>\n",
       "    .dataframe tbody tr th:only-of-type {\n",
       "        vertical-align: middle;\n",
       "    }\n",
       "\n",
       "    .dataframe tbody tr th {\n",
       "        vertical-align: top;\n",
       "    }\n",
       "\n",
       "    .dataframe thead th {\n",
       "        text-align: right;\n",
       "    }\n",
       "</style>\n",
       "<table border=\"1\" class=\"dataframe\">\n",
       "  <thead>\n",
       "    <tr style=\"text-align: right;\">\n",
       "      <th></th>\n",
       "      <th>model</th>\n",
       "      <th>year</th>\n",
       "      <th>price</th>\n",
       "      <th>transmission</th>\n",
       "      <th>mileage</th>\n",
       "      <th>fuelType</th>\n",
       "      <th>tax</th>\n",
       "      <th>mpg</th>\n",
       "      <th>engineSize</th>\n",
       "    </tr>\n",
       "  </thead>\n",
       "  <tbody>\n",
       "    <tr>\n",
       "      <th>0</th>\n",
       "      <td>A1</td>\n",
       "      <td>2017</td>\n",
       "      <td>12500</td>\n",
       "      <td>Manual</td>\n",
       "      <td>15735</td>\n",
       "      <td>Petrol</td>\n",
       "      <td>150</td>\n",
       "      <td>55.4</td>\n",
       "      <td>1.4</td>\n",
       "    </tr>\n",
       "    <tr>\n",
       "      <th>1</th>\n",
       "      <td>A6</td>\n",
       "      <td>2016</td>\n",
       "      <td>16500</td>\n",
       "      <td>Automatic</td>\n",
       "      <td>36203</td>\n",
       "      <td>Diesel</td>\n",
       "      <td>20</td>\n",
       "      <td>64.2</td>\n",
       "      <td>2.0</td>\n",
       "    </tr>\n",
       "    <tr>\n",
       "      <th>2</th>\n",
       "      <td>A1</td>\n",
       "      <td>2016</td>\n",
       "      <td>11000</td>\n",
       "      <td>Manual</td>\n",
       "      <td>29946</td>\n",
       "      <td>Petrol</td>\n",
       "      <td>30</td>\n",
       "      <td>55.4</td>\n",
       "      <td>1.4</td>\n",
       "    </tr>\n",
       "    <tr>\n",
       "      <th>3</th>\n",
       "      <td>A4</td>\n",
       "      <td>2017</td>\n",
       "      <td>16800</td>\n",
       "      <td>Automatic</td>\n",
       "      <td>25952</td>\n",
       "      <td>Diesel</td>\n",
       "      <td>145</td>\n",
       "      <td>67.3</td>\n",
       "      <td>2.0</td>\n",
       "    </tr>\n",
       "    <tr>\n",
       "      <th>4</th>\n",
       "      <td>A3</td>\n",
       "      <td>2019</td>\n",
       "      <td>17300</td>\n",
       "      <td>Manual</td>\n",
       "      <td>1998</td>\n",
       "      <td>Petrol</td>\n",
       "      <td>145</td>\n",
       "      <td>49.6</td>\n",
       "      <td>1.0</td>\n",
       "    </tr>\n",
       "  </tbody>\n",
       "</table>\n",
       "</div>"
      ],
      "text/plain": [
       "  model  year  price transmission  mileage fuelType  tax   mpg  engineSize\n",
       "0    A1  2017  12500       Manual    15735   Petrol  150  55.4         1.4\n",
       "1    A6  2016  16500    Automatic    36203   Diesel   20  64.2         2.0\n",
       "2    A1  2016  11000       Manual    29946   Petrol   30  55.4         1.4\n",
       "3    A4  2017  16800    Automatic    25952   Diesel  145  67.3         2.0\n",
       "4    A3  2019  17300       Manual     1998   Petrol  145  49.6         1.0"
      ]
     },
     "execution_count": 4,
     "metadata": {},
     "output_type": "execute_result"
    }
   ],
   "source": [
    "df = pd.read_csv(\"datasets/audi.csv\")\n",
    "df.head()"
   ]
  },
  {
   "cell_type": "code",
   "execution_count": 5,
   "metadata": {
    "scrolled": true
   },
   "outputs": [
    {
     "data": {
      "text/plain": [
       "10668"
      ]
     },
     "execution_count": 5,
     "metadata": {},
     "output_type": "execute_result"
    }
   ],
   "source": [
    "df.shape[0]"
   ]
  },
  {
   "cell_type": "markdown",
   "metadata": {},
   "source": [
    "### Adicionando coluna de marca (brand) no dataset de cada marca:\n",
    "\n",
    "### Audi"
   ]
  },
  {
   "cell_type": "code",
   "execution_count": 6,
   "metadata": {},
   "outputs": [],
   "source": [
    "df_aud = pd.read_csv(\"datasets/audi.csv\")\n",
    "qtd_lines = df_aud.shape[0]"
   ]
  },
  {
   "cell_type": "code",
   "execution_count": 7,
   "metadata": {},
   "outputs": [
    {
     "data": {
      "text/html": [
       "<div>\n",
       "<style scoped>\n",
       "    .dataframe tbody tr th:only-of-type {\n",
       "        vertical-align: middle;\n",
       "    }\n",
       "\n",
       "    .dataframe tbody tr th {\n",
       "        vertical-align: top;\n",
       "    }\n",
       "\n",
       "    .dataframe thead th {\n",
       "        text-align: right;\n",
       "    }\n",
       "</style>\n",
       "<table border=\"1\" class=\"dataframe\">\n",
       "  <thead>\n",
       "    <tr style=\"text-align: right;\">\n",
       "      <th></th>\n",
       "      <th>model</th>\n",
       "      <th>year</th>\n",
       "      <th>price</th>\n",
       "      <th>transmission</th>\n",
       "      <th>mileage</th>\n",
       "      <th>fuelType</th>\n",
       "      <th>tax</th>\n",
       "      <th>mpg</th>\n",
       "      <th>engineSize</th>\n",
       "      <th>brand</th>\n",
       "    </tr>\n",
       "  </thead>\n",
       "  <tbody>\n",
       "    <tr>\n",
       "      <th>0</th>\n",
       "      <td>A1</td>\n",
       "      <td>2017</td>\n",
       "      <td>12500</td>\n",
       "      <td>Manual</td>\n",
       "      <td>15735</td>\n",
       "      <td>Petrol</td>\n",
       "      <td>150</td>\n",
       "      <td>55.4</td>\n",
       "      <td>1.4</td>\n",
       "      <td>Audi</td>\n",
       "    </tr>\n",
       "    <tr>\n",
       "      <th>1</th>\n",
       "      <td>A6</td>\n",
       "      <td>2016</td>\n",
       "      <td>16500</td>\n",
       "      <td>Automatic</td>\n",
       "      <td>36203</td>\n",
       "      <td>Diesel</td>\n",
       "      <td>20</td>\n",
       "      <td>64.2</td>\n",
       "      <td>2.0</td>\n",
       "      <td>Audi</td>\n",
       "    </tr>\n",
       "    <tr>\n",
       "      <th>2</th>\n",
       "      <td>A1</td>\n",
       "      <td>2016</td>\n",
       "      <td>11000</td>\n",
       "      <td>Manual</td>\n",
       "      <td>29946</td>\n",
       "      <td>Petrol</td>\n",
       "      <td>30</td>\n",
       "      <td>55.4</td>\n",
       "      <td>1.4</td>\n",
       "      <td>Audi</td>\n",
       "    </tr>\n",
       "    <tr>\n",
       "      <th>3</th>\n",
       "      <td>A4</td>\n",
       "      <td>2017</td>\n",
       "      <td>16800</td>\n",
       "      <td>Automatic</td>\n",
       "      <td>25952</td>\n",
       "      <td>Diesel</td>\n",
       "      <td>145</td>\n",
       "      <td>67.3</td>\n",
       "      <td>2.0</td>\n",
       "      <td>Audi</td>\n",
       "    </tr>\n",
       "    <tr>\n",
       "      <th>4</th>\n",
       "      <td>A3</td>\n",
       "      <td>2019</td>\n",
       "      <td>17300</td>\n",
       "      <td>Manual</td>\n",
       "      <td>1998</td>\n",
       "      <td>Petrol</td>\n",
       "      <td>145</td>\n",
       "      <td>49.6</td>\n",
       "      <td>1.0</td>\n",
       "      <td>Audi</td>\n",
       "    </tr>\n",
       "  </tbody>\n",
       "</table>\n",
       "</div>"
      ],
      "text/plain": [
       "  model  year  price transmission  mileage fuelType  tax   mpg  engineSize  \\\n",
       "0    A1  2017  12500       Manual    15735   Petrol  150  55.4         1.4   \n",
       "1    A6  2016  16500    Automatic    36203   Diesel   20  64.2         2.0   \n",
       "2    A1  2016  11000       Manual    29946   Petrol   30  55.4         1.4   \n",
       "3    A4  2017  16800    Automatic    25952   Diesel  145  67.3         2.0   \n",
       "4    A3  2019  17300       Manual     1998   Petrol  145  49.6         1.0   \n",
       "\n",
       "  brand  \n",
       "0  Audi  \n",
       "1  Audi  \n",
       "2  Audi  \n",
       "3  Audi  \n",
       "4  Audi  "
      ]
     },
     "execution_count": 7,
     "metadata": {},
     "output_type": "execute_result"
    }
   ],
   "source": [
    "df_aud['brand'] = (\"Audi,\" * qtd_lines).split(',')[:-1]\n",
    "df_aud.head()"
   ]
  },
  {
   "cell_type": "markdown",
   "metadata": {},
   "source": [
    "### BMW"
   ]
  },
  {
   "cell_type": "code",
   "execution_count": 8,
   "metadata": {},
   "outputs": [],
   "source": [
    "df_bmw = pd.read_csv(\"datasets/bmw.csv\")\n",
    "qtd_lines = df_bmw.shape[0]"
   ]
  },
  {
   "cell_type": "code",
   "execution_count": 9,
   "metadata": {
    "scrolled": true
   },
   "outputs": [
    {
     "data": {
      "text/html": [
       "<div>\n",
       "<style scoped>\n",
       "    .dataframe tbody tr th:only-of-type {\n",
       "        vertical-align: middle;\n",
       "    }\n",
       "\n",
       "    .dataframe tbody tr th {\n",
       "        vertical-align: top;\n",
       "    }\n",
       "\n",
       "    .dataframe thead th {\n",
       "        text-align: right;\n",
       "    }\n",
       "</style>\n",
       "<table border=\"1\" class=\"dataframe\">\n",
       "  <thead>\n",
       "    <tr style=\"text-align: right;\">\n",
       "      <th></th>\n",
       "      <th>model</th>\n",
       "      <th>year</th>\n",
       "      <th>price</th>\n",
       "      <th>transmission</th>\n",
       "      <th>mileage</th>\n",
       "      <th>fuelType</th>\n",
       "      <th>tax</th>\n",
       "      <th>mpg</th>\n",
       "      <th>engineSize</th>\n",
       "      <th>brand</th>\n",
       "    </tr>\n",
       "  </thead>\n",
       "  <tbody>\n",
       "    <tr>\n",
       "      <th>0</th>\n",
       "      <td>5 Series</td>\n",
       "      <td>2014</td>\n",
       "      <td>11200</td>\n",
       "      <td>Automatic</td>\n",
       "      <td>67068</td>\n",
       "      <td>Diesel</td>\n",
       "      <td>125</td>\n",
       "      <td>57.6</td>\n",
       "      <td>2.0</td>\n",
       "      <td>Bmw</td>\n",
       "    </tr>\n",
       "    <tr>\n",
       "      <th>1</th>\n",
       "      <td>6 Series</td>\n",
       "      <td>2018</td>\n",
       "      <td>27000</td>\n",
       "      <td>Automatic</td>\n",
       "      <td>14827</td>\n",
       "      <td>Petrol</td>\n",
       "      <td>145</td>\n",
       "      <td>42.8</td>\n",
       "      <td>2.0</td>\n",
       "      <td>Bmw</td>\n",
       "    </tr>\n",
       "    <tr>\n",
       "      <th>2</th>\n",
       "      <td>5 Series</td>\n",
       "      <td>2016</td>\n",
       "      <td>16000</td>\n",
       "      <td>Automatic</td>\n",
       "      <td>62794</td>\n",
       "      <td>Diesel</td>\n",
       "      <td>160</td>\n",
       "      <td>51.4</td>\n",
       "      <td>3.0</td>\n",
       "      <td>Bmw</td>\n",
       "    </tr>\n",
       "    <tr>\n",
       "      <th>3</th>\n",
       "      <td>1 Series</td>\n",
       "      <td>2017</td>\n",
       "      <td>12750</td>\n",
       "      <td>Automatic</td>\n",
       "      <td>26676</td>\n",
       "      <td>Diesel</td>\n",
       "      <td>145</td>\n",
       "      <td>72.4</td>\n",
       "      <td>1.5</td>\n",
       "      <td>Bmw</td>\n",
       "    </tr>\n",
       "    <tr>\n",
       "      <th>4</th>\n",
       "      <td>7 Series</td>\n",
       "      <td>2014</td>\n",
       "      <td>14500</td>\n",
       "      <td>Automatic</td>\n",
       "      <td>39554</td>\n",
       "      <td>Diesel</td>\n",
       "      <td>160</td>\n",
       "      <td>50.4</td>\n",
       "      <td>3.0</td>\n",
       "      <td>Bmw</td>\n",
       "    </tr>\n",
       "  </tbody>\n",
       "</table>\n",
       "</div>"
      ],
      "text/plain": [
       "       model  year  price transmission  mileage fuelType  tax   mpg  \\\n",
       "0   5 Series  2014  11200    Automatic    67068   Diesel  125  57.6   \n",
       "1   6 Series  2018  27000    Automatic    14827   Petrol  145  42.8   \n",
       "2   5 Series  2016  16000    Automatic    62794   Diesel  160  51.4   \n",
       "3   1 Series  2017  12750    Automatic    26676   Diesel  145  72.4   \n",
       "4   7 Series  2014  14500    Automatic    39554   Diesel  160  50.4   \n",
       "\n",
       "   engineSize brand  \n",
       "0         2.0   Bmw  \n",
       "1         2.0   Bmw  \n",
       "2         3.0   Bmw  \n",
       "3         1.5   Bmw  \n",
       "4         3.0   Bmw  "
      ]
     },
     "execution_count": 9,
     "metadata": {},
     "output_type": "execute_result"
    }
   ],
   "source": [
    "df_bmw['brand'] = (\"Bmw,\" * qtd_lines).split(',')[:-1]\n",
    "df_bmw.head()"
   ]
  },
  {
   "cell_type": "markdown",
   "metadata": {},
   "source": [
    "### Ford"
   ]
  },
  {
   "cell_type": "code",
   "execution_count": 10,
   "metadata": {},
   "outputs": [
    {
     "data": {
      "text/html": [
       "<div>\n",
       "<style scoped>\n",
       "    .dataframe tbody tr th:only-of-type {\n",
       "        vertical-align: middle;\n",
       "    }\n",
       "\n",
       "    .dataframe tbody tr th {\n",
       "        vertical-align: top;\n",
       "    }\n",
       "\n",
       "    .dataframe thead th {\n",
       "        text-align: right;\n",
       "    }\n",
       "</style>\n",
       "<table border=\"1\" class=\"dataframe\">\n",
       "  <thead>\n",
       "    <tr style=\"text-align: right;\">\n",
       "      <th></th>\n",
       "      <th>model</th>\n",
       "      <th>year</th>\n",
       "      <th>price</th>\n",
       "      <th>transmission</th>\n",
       "      <th>mileage</th>\n",
       "      <th>fuelType</th>\n",
       "      <th>tax</th>\n",
       "      <th>mpg</th>\n",
       "      <th>engineSize</th>\n",
       "      <th>brand</th>\n",
       "    </tr>\n",
       "  </thead>\n",
       "  <tbody>\n",
       "    <tr>\n",
       "      <th>0</th>\n",
       "      <td>Fiesta</td>\n",
       "      <td>2017</td>\n",
       "      <td>12000</td>\n",
       "      <td>Automatic</td>\n",
       "      <td>15944</td>\n",
       "      <td>Petrol</td>\n",
       "      <td>150</td>\n",
       "      <td>57.7</td>\n",
       "      <td>1.0</td>\n",
       "      <td>Ford</td>\n",
       "    </tr>\n",
       "    <tr>\n",
       "      <th>1</th>\n",
       "      <td>Focus</td>\n",
       "      <td>2018</td>\n",
       "      <td>14000</td>\n",
       "      <td>Manual</td>\n",
       "      <td>9083</td>\n",
       "      <td>Petrol</td>\n",
       "      <td>150</td>\n",
       "      <td>57.7</td>\n",
       "      <td>1.0</td>\n",
       "      <td>Ford</td>\n",
       "    </tr>\n",
       "    <tr>\n",
       "      <th>2</th>\n",
       "      <td>Focus</td>\n",
       "      <td>2017</td>\n",
       "      <td>13000</td>\n",
       "      <td>Manual</td>\n",
       "      <td>12456</td>\n",
       "      <td>Petrol</td>\n",
       "      <td>150</td>\n",
       "      <td>57.7</td>\n",
       "      <td>1.0</td>\n",
       "      <td>Ford</td>\n",
       "    </tr>\n",
       "    <tr>\n",
       "      <th>3</th>\n",
       "      <td>Fiesta</td>\n",
       "      <td>2019</td>\n",
       "      <td>17500</td>\n",
       "      <td>Manual</td>\n",
       "      <td>10460</td>\n",
       "      <td>Petrol</td>\n",
       "      <td>145</td>\n",
       "      <td>40.3</td>\n",
       "      <td>1.5</td>\n",
       "      <td>Ford</td>\n",
       "    </tr>\n",
       "    <tr>\n",
       "      <th>4</th>\n",
       "      <td>Fiesta</td>\n",
       "      <td>2019</td>\n",
       "      <td>16500</td>\n",
       "      <td>Automatic</td>\n",
       "      <td>1482</td>\n",
       "      <td>Petrol</td>\n",
       "      <td>145</td>\n",
       "      <td>48.7</td>\n",
       "      <td>1.0</td>\n",
       "      <td>Ford</td>\n",
       "    </tr>\n",
       "  </tbody>\n",
       "</table>\n",
       "</div>"
      ],
      "text/plain": [
       "     model  year  price transmission  mileage fuelType  tax   mpg  engineSize  \\\n",
       "0   Fiesta  2017  12000    Automatic    15944   Petrol  150  57.7         1.0   \n",
       "1    Focus  2018  14000       Manual     9083   Petrol  150  57.7         1.0   \n",
       "2    Focus  2017  13000       Manual    12456   Petrol  150  57.7         1.0   \n",
       "3   Fiesta  2019  17500       Manual    10460   Petrol  145  40.3         1.5   \n",
       "4   Fiesta  2019  16500    Automatic     1482   Petrol  145  48.7         1.0   \n",
       "\n",
       "  brand  \n",
       "0  Ford  \n",
       "1  Ford  \n",
       "2  Ford  \n",
       "3  Ford  \n",
       "4  Ford  "
      ]
     },
     "execution_count": 10,
     "metadata": {},
     "output_type": "execute_result"
    }
   ],
   "source": [
    "df_for2 = pd.read_csv(\"datasets/ford.csv\")\n",
    "qtd_lines = df_for2.shape[0]\n",
    "\n",
    "df_for2['brand'] = (\"Ford,\" * qtd_lines).split(',')[:-1]\n",
    "df_for2.head()"
   ]
  },
  {
   "cell_type": "markdown",
   "metadata": {},
   "source": [
    "### Hyundai"
   ]
  },
  {
   "cell_type": "code",
   "execution_count": 11,
   "metadata": {},
   "outputs": [
    {
     "data": {
      "text/html": [
       "<div>\n",
       "<style scoped>\n",
       "    .dataframe tbody tr th:only-of-type {\n",
       "        vertical-align: middle;\n",
       "    }\n",
       "\n",
       "    .dataframe tbody tr th {\n",
       "        vertical-align: top;\n",
       "    }\n",
       "\n",
       "    .dataframe thead th {\n",
       "        text-align: right;\n",
       "    }\n",
       "</style>\n",
       "<table border=\"1\" class=\"dataframe\">\n",
       "  <thead>\n",
       "    <tr style=\"text-align: right;\">\n",
       "      <th></th>\n",
       "      <th>model</th>\n",
       "      <th>year</th>\n",
       "      <th>price</th>\n",
       "      <th>transmission</th>\n",
       "      <th>mileage</th>\n",
       "      <th>fuelType</th>\n",
       "      <th>tax</th>\n",
       "      <th>mpg</th>\n",
       "      <th>engineSize</th>\n",
       "      <th>brand</th>\n",
       "    </tr>\n",
       "  </thead>\n",
       "  <tbody>\n",
       "    <tr>\n",
       "      <th>0</th>\n",
       "      <td>I20</td>\n",
       "      <td>2017</td>\n",
       "      <td>7999</td>\n",
       "      <td>Manual</td>\n",
       "      <td>17307</td>\n",
       "      <td>Petrol</td>\n",
       "      <td>145</td>\n",
       "      <td>58.9</td>\n",
       "      <td>1.2</td>\n",
       "      <td>Hyundi</td>\n",
       "    </tr>\n",
       "    <tr>\n",
       "      <th>1</th>\n",
       "      <td>Tucson</td>\n",
       "      <td>2016</td>\n",
       "      <td>14499</td>\n",
       "      <td>Automatic</td>\n",
       "      <td>25233</td>\n",
       "      <td>Diesel</td>\n",
       "      <td>235</td>\n",
       "      <td>43.5</td>\n",
       "      <td>2.0</td>\n",
       "      <td>Hyundi</td>\n",
       "    </tr>\n",
       "    <tr>\n",
       "      <th>2</th>\n",
       "      <td>Tucson</td>\n",
       "      <td>2016</td>\n",
       "      <td>11399</td>\n",
       "      <td>Manual</td>\n",
       "      <td>37877</td>\n",
       "      <td>Diesel</td>\n",
       "      <td>30</td>\n",
       "      <td>61.7</td>\n",
       "      <td>1.7</td>\n",
       "      <td>Hyundi</td>\n",
       "    </tr>\n",
       "    <tr>\n",
       "      <th>3</th>\n",
       "      <td>I10</td>\n",
       "      <td>2016</td>\n",
       "      <td>6499</td>\n",
       "      <td>Manual</td>\n",
       "      <td>23789</td>\n",
       "      <td>Petrol</td>\n",
       "      <td>20</td>\n",
       "      <td>60.1</td>\n",
       "      <td>1.0</td>\n",
       "      <td>Hyundi</td>\n",
       "    </tr>\n",
       "    <tr>\n",
       "      <th>4</th>\n",
       "      <td>IX35</td>\n",
       "      <td>2015</td>\n",
       "      <td>10199</td>\n",
       "      <td>Manual</td>\n",
       "      <td>33177</td>\n",
       "      <td>Diesel</td>\n",
       "      <td>160</td>\n",
       "      <td>51.4</td>\n",
       "      <td>2.0</td>\n",
       "      <td>Hyundi</td>\n",
       "    </tr>\n",
       "  </tbody>\n",
       "</table>\n",
       "</div>"
      ],
      "text/plain": [
       "     model  year  price transmission  mileage fuelType  tax   mpg  engineSize  \\\n",
       "0      I20  2017   7999       Manual    17307   Petrol  145  58.9         1.2   \n",
       "1   Tucson  2016  14499    Automatic    25233   Diesel  235  43.5         2.0   \n",
       "2   Tucson  2016  11399       Manual    37877   Diesel   30  61.7         1.7   \n",
       "3      I10  2016   6499       Manual    23789   Petrol   20  60.1         1.0   \n",
       "4     IX35  2015  10199       Manual    33177   Diesel  160  51.4         2.0   \n",
       "\n",
       "    brand  \n",
       "0  Hyundi  \n",
       "1  Hyundi  \n",
       "2  Hyundi  \n",
       "3  Hyundi  \n",
       "4  Hyundi  "
      ]
     },
     "execution_count": 11,
     "metadata": {},
     "output_type": "execute_result"
    }
   ],
   "source": [
    "df_hyu = pd.read_csv(\"datasets/hyundi.csv\")\n",
    "qtd_lines = df_hyu.shape[0]\n",
    "\n",
    "df_hyu['brand'] = (\"Hyundi,\" * qtd_lines).split(',')[:-1]\n",
    "df_hyu.head()"
   ]
  },
  {
   "cell_type": "markdown",
   "metadata": {},
   "source": [
    "### Mercedes"
   ]
  },
  {
   "cell_type": "code",
   "execution_count": 12,
   "metadata": {},
   "outputs": [
    {
     "data": {
      "text/html": [
       "<div>\n",
       "<style scoped>\n",
       "    .dataframe tbody tr th:only-of-type {\n",
       "        vertical-align: middle;\n",
       "    }\n",
       "\n",
       "    .dataframe tbody tr th {\n",
       "        vertical-align: top;\n",
       "    }\n",
       "\n",
       "    .dataframe thead th {\n",
       "        text-align: right;\n",
       "    }\n",
       "</style>\n",
       "<table border=\"1\" class=\"dataframe\">\n",
       "  <thead>\n",
       "    <tr style=\"text-align: right;\">\n",
       "      <th></th>\n",
       "      <th>model</th>\n",
       "      <th>year</th>\n",
       "      <th>price</th>\n",
       "      <th>transmission</th>\n",
       "      <th>mileage</th>\n",
       "      <th>fuelType</th>\n",
       "      <th>tax</th>\n",
       "      <th>mpg</th>\n",
       "      <th>engineSize</th>\n",
       "      <th>brand</th>\n",
       "    </tr>\n",
       "  </thead>\n",
       "  <tbody>\n",
       "    <tr>\n",
       "      <th>0</th>\n",
       "      <td>SLK</td>\n",
       "      <td>2005</td>\n",
       "      <td>5200</td>\n",
       "      <td>Automatic</td>\n",
       "      <td>63000</td>\n",
       "      <td>Petrol</td>\n",
       "      <td>325</td>\n",
       "      <td>32.1</td>\n",
       "      <td>1.8</td>\n",
       "      <td>Mercesdes</td>\n",
       "    </tr>\n",
       "    <tr>\n",
       "      <th>1</th>\n",
       "      <td>S Class</td>\n",
       "      <td>2017</td>\n",
       "      <td>34948</td>\n",
       "      <td>Automatic</td>\n",
       "      <td>27000</td>\n",
       "      <td>Hybrid</td>\n",
       "      <td>20</td>\n",
       "      <td>61.4</td>\n",
       "      <td>2.1</td>\n",
       "      <td>Mercesdes</td>\n",
       "    </tr>\n",
       "    <tr>\n",
       "      <th>2</th>\n",
       "      <td>SL CLASS</td>\n",
       "      <td>2016</td>\n",
       "      <td>49948</td>\n",
       "      <td>Automatic</td>\n",
       "      <td>6200</td>\n",
       "      <td>Petrol</td>\n",
       "      <td>555</td>\n",
       "      <td>28.0</td>\n",
       "      <td>5.5</td>\n",
       "      <td>Mercesdes</td>\n",
       "    </tr>\n",
       "    <tr>\n",
       "      <th>3</th>\n",
       "      <td>G Class</td>\n",
       "      <td>2016</td>\n",
       "      <td>61948</td>\n",
       "      <td>Automatic</td>\n",
       "      <td>16000</td>\n",
       "      <td>Petrol</td>\n",
       "      <td>325</td>\n",
       "      <td>30.4</td>\n",
       "      <td>4.0</td>\n",
       "      <td>Mercesdes</td>\n",
       "    </tr>\n",
       "    <tr>\n",
       "      <th>4</th>\n",
       "      <td>G Class</td>\n",
       "      <td>2016</td>\n",
       "      <td>73948</td>\n",
       "      <td>Automatic</td>\n",
       "      <td>4000</td>\n",
       "      <td>Petrol</td>\n",
       "      <td>325</td>\n",
       "      <td>30.1</td>\n",
       "      <td>4.0</td>\n",
       "      <td>Mercesdes</td>\n",
       "    </tr>\n",
       "  </tbody>\n",
       "</table>\n",
       "</div>"
      ],
      "text/plain": [
       "       model  year  price transmission  mileage fuelType  tax   mpg  \\\n",
       "0        SLK  2005   5200    Automatic    63000   Petrol  325  32.1   \n",
       "1    S Class  2017  34948    Automatic    27000   Hybrid   20  61.4   \n",
       "2   SL CLASS  2016  49948    Automatic     6200   Petrol  555  28.0   \n",
       "3    G Class  2016  61948    Automatic    16000   Petrol  325  30.4   \n",
       "4    G Class  2016  73948    Automatic     4000   Petrol  325  30.1   \n",
       "\n",
       "   engineSize      brand  \n",
       "0         1.8  Mercesdes  \n",
       "1         2.1  Mercesdes  \n",
       "2         5.5  Mercesdes  \n",
       "3         4.0  Mercesdes  \n",
       "4         4.0  Mercesdes  "
      ]
     },
     "execution_count": 12,
     "metadata": {},
     "output_type": "execute_result"
    }
   ],
   "source": [
    "df_mer2 = pd.read_csv(\"datasets/merc.csv\")\n",
    "qtd_lines = df_mer2.shape[0]\n",
    "\n",
    "df_mer2['brand'] = (\"Mercesdes,\" * qtd_lines).split(',')[:-1]\n",
    "df_mer2.head()"
   ]
  },
  {
   "cell_type": "markdown",
   "metadata": {},
   "source": [
    "### Skoda"
   ]
  },
  {
   "cell_type": "code",
   "execution_count": 13,
   "metadata": {},
   "outputs": [
    {
     "data": {
      "text/html": [
       "<div>\n",
       "<style scoped>\n",
       "    .dataframe tbody tr th:only-of-type {\n",
       "        vertical-align: middle;\n",
       "    }\n",
       "\n",
       "    .dataframe tbody tr th {\n",
       "        vertical-align: top;\n",
       "    }\n",
       "\n",
       "    .dataframe thead th {\n",
       "        text-align: right;\n",
       "    }\n",
       "</style>\n",
       "<table border=\"1\" class=\"dataframe\">\n",
       "  <thead>\n",
       "    <tr style=\"text-align: right;\">\n",
       "      <th></th>\n",
       "      <th>model</th>\n",
       "      <th>year</th>\n",
       "      <th>price</th>\n",
       "      <th>transmission</th>\n",
       "      <th>mileage</th>\n",
       "      <th>fuelType</th>\n",
       "      <th>tax</th>\n",
       "      <th>mpg</th>\n",
       "      <th>engineSize</th>\n",
       "      <th>brand</th>\n",
       "    </tr>\n",
       "  </thead>\n",
       "  <tbody>\n",
       "    <tr>\n",
       "      <th>0</th>\n",
       "      <td>Octavia</td>\n",
       "      <td>2017</td>\n",
       "      <td>10550</td>\n",
       "      <td>Manual</td>\n",
       "      <td>25250</td>\n",
       "      <td>Petrol</td>\n",
       "      <td>150</td>\n",
       "      <td>54.3</td>\n",
       "      <td>1.4</td>\n",
       "      <td>Skoda</td>\n",
       "    </tr>\n",
       "    <tr>\n",
       "      <th>1</th>\n",
       "      <td>Citigo</td>\n",
       "      <td>2018</td>\n",
       "      <td>8200</td>\n",
       "      <td>Manual</td>\n",
       "      <td>1264</td>\n",
       "      <td>Petrol</td>\n",
       "      <td>145</td>\n",
       "      <td>67.3</td>\n",
       "      <td>1.0</td>\n",
       "      <td>Skoda</td>\n",
       "    </tr>\n",
       "    <tr>\n",
       "      <th>2</th>\n",
       "      <td>Octavia</td>\n",
       "      <td>2019</td>\n",
       "      <td>15650</td>\n",
       "      <td>Automatic</td>\n",
       "      <td>6825</td>\n",
       "      <td>Diesel</td>\n",
       "      <td>145</td>\n",
       "      <td>67.3</td>\n",
       "      <td>2.0</td>\n",
       "      <td>Skoda</td>\n",
       "    </tr>\n",
       "    <tr>\n",
       "      <th>3</th>\n",
       "      <td>Yeti Outdoor</td>\n",
       "      <td>2015</td>\n",
       "      <td>14000</td>\n",
       "      <td>Automatic</td>\n",
       "      <td>28431</td>\n",
       "      <td>Diesel</td>\n",
       "      <td>165</td>\n",
       "      <td>51.4</td>\n",
       "      <td>2.0</td>\n",
       "      <td>Skoda</td>\n",
       "    </tr>\n",
       "    <tr>\n",
       "      <th>4</th>\n",
       "      <td>Superb</td>\n",
       "      <td>2019</td>\n",
       "      <td>18350</td>\n",
       "      <td>Manual</td>\n",
       "      <td>10912</td>\n",
       "      <td>Petrol</td>\n",
       "      <td>150</td>\n",
       "      <td>40.9</td>\n",
       "      <td>1.5</td>\n",
       "      <td>Skoda</td>\n",
       "    </tr>\n",
       "  </tbody>\n",
       "</table>\n",
       "</div>"
      ],
      "text/plain": [
       "           model  year  price transmission  mileage fuelType  tax   mpg  \\\n",
       "0        Octavia  2017  10550       Manual    25250   Petrol  150  54.3   \n",
       "1         Citigo  2018   8200       Manual     1264   Petrol  145  67.3   \n",
       "2        Octavia  2019  15650    Automatic     6825   Diesel  145  67.3   \n",
       "3   Yeti Outdoor  2015  14000    Automatic    28431   Diesel  165  51.4   \n",
       "4         Superb  2019  18350       Manual    10912   Petrol  150  40.9   \n",
       "\n",
       "   engineSize  brand  \n",
       "0         1.4  Skoda  \n",
       "1         1.0  Skoda  \n",
       "2         2.0  Skoda  \n",
       "3         2.0  Skoda  \n",
       "4         1.5  Skoda  "
      ]
     },
     "execution_count": 13,
     "metadata": {},
     "output_type": "execute_result"
    }
   ],
   "source": [
    "df_sko = pd.read_csv(\"datasets/skoda.csv\")\n",
    "qtd_lines = df_sko.shape[0]\n",
    "\n",
    "df_sko['brand'] = (\"Skoda,\" * qtd_lines).split(',')[:-1]\n",
    "df_sko.head()"
   ]
  },
  {
   "cell_type": "markdown",
   "metadata": {},
   "source": [
    "### Toyota"
   ]
  },
  {
   "cell_type": "code",
   "execution_count": 14,
   "metadata": {},
   "outputs": [
    {
     "data": {
      "text/html": [
       "<div>\n",
       "<style scoped>\n",
       "    .dataframe tbody tr th:only-of-type {\n",
       "        vertical-align: middle;\n",
       "    }\n",
       "\n",
       "    .dataframe tbody tr th {\n",
       "        vertical-align: top;\n",
       "    }\n",
       "\n",
       "    .dataframe thead th {\n",
       "        text-align: right;\n",
       "    }\n",
       "</style>\n",
       "<table border=\"1\" class=\"dataframe\">\n",
       "  <thead>\n",
       "    <tr style=\"text-align: right;\">\n",
       "      <th></th>\n",
       "      <th>model</th>\n",
       "      <th>year</th>\n",
       "      <th>price</th>\n",
       "      <th>transmission</th>\n",
       "      <th>mileage</th>\n",
       "      <th>fuelType</th>\n",
       "      <th>tax</th>\n",
       "      <th>mpg</th>\n",
       "      <th>engineSize</th>\n",
       "      <th>brand</th>\n",
       "    </tr>\n",
       "  </thead>\n",
       "  <tbody>\n",
       "    <tr>\n",
       "      <th>0</th>\n",
       "      <td>GT86</td>\n",
       "      <td>2016</td>\n",
       "      <td>16000</td>\n",
       "      <td>Manual</td>\n",
       "      <td>24089</td>\n",
       "      <td>Petrol</td>\n",
       "      <td>265</td>\n",
       "      <td>36.2</td>\n",
       "      <td>2.0</td>\n",
       "      <td>Toyota</td>\n",
       "    </tr>\n",
       "    <tr>\n",
       "      <th>1</th>\n",
       "      <td>GT86</td>\n",
       "      <td>2017</td>\n",
       "      <td>15995</td>\n",
       "      <td>Manual</td>\n",
       "      <td>18615</td>\n",
       "      <td>Petrol</td>\n",
       "      <td>145</td>\n",
       "      <td>36.2</td>\n",
       "      <td>2.0</td>\n",
       "      <td>Toyota</td>\n",
       "    </tr>\n",
       "    <tr>\n",
       "      <th>2</th>\n",
       "      <td>GT86</td>\n",
       "      <td>2015</td>\n",
       "      <td>13998</td>\n",
       "      <td>Manual</td>\n",
       "      <td>27469</td>\n",
       "      <td>Petrol</td>\n",
       "      <td>265</td>\n",
       "      <td>36.2</td>\n",
       "      <td>2.0</td>\n",
       "      <td>Toyota</td>\n",
       "    </tr>\n",
       "    <tr>\n",
       "      <th>3</th>\n",
       "      <td>GT86</td>\n",
       "      <td>2017</td>\n",
       "      <td>18998</td>\n",
       "      <td>Manual</td>\n",
       "      <td>14736</td>\n",
       "      <td>Petrol</td>\n",
       "      <td>150</td>\n",
       "      <td>36.2</td>\n",
       "      <td>2.0</td>\n",
       "      <td>Toyota</td>\n",
       "    </tr>\n",
       "    <tr>\n",
       "      <th>4</th>\n",
       "      <td>GT86</td>\n",
       "      <td>2017</td>\n",
       "      <td>17498</td>\n",
       "      <td>Manual</td>\n",
       "      <td>36284</td>\n",
       "      <td>Petrol</td>\n",
       "      <td>145</td>\n",
       "      <td>36.2</td>\n",
       "      <td>2.0</td>\n",
       "      <td>Toyota</td>\n",
       "    </tr>\n",
       "  </tbody>\n",
       "</table>\n",
       "</div>"
      ],
      "text/plain": [
       "   model  year  price transmission  mileage fuelType  tax   mpg  engineSize  \\\n",
       "0   GT86  2016  16000       Manual    24089   Petrol  265  36.2         2.0   \n",
       "1   GT86  2017  15995       Manual    18615   Petrol  145  36.2         2.0   \n",
       "2   GT86  2015  13998       Manual    27469   Petrol  265  36.2         2.0   \n",
       "3   GT86  2017  18998       Manual    14736   Petrol  150  36.2         2.0   \n",
       "4   GT86  2017  17498       Manual    36284   Petrol  145  36.2         2.0   \n",
       "\n",
       "    brand  \n",
       "0  Toyota  \n",
       "1  Toyota  \n",
       "2  Toyota  \n",
       "3  Toyota  \n",
       "4  Toyota  "
      ]
     },
     "execution_count": 14,
     "metadata": {},
     "output_type": "execute_result"
    }
   ],
   "source": [
    "df_toy = pd.read_csv(\"datasets/toyota.csv\")\n",
    "qtd_lines = df_toy.shape[0]\n",
    "\n",
    "df_toy['brand'] = (\"Toyota,\" * qtd_lines).split(',')[:-1]\n",
    "df_toy.head()"
   ]
  },
  {
   "cell_type": "markdown",
   "metadata": {},
   "source": [
    "### Vauxhall"
   ]
  },
  {
   "cell_type": "code",
   "execution_count": 15,
   "metadata": {},
   "outputs": [
    {
     "data": {
      "text/html": [
       "<div>\n",
       "<style scoped>\n",
       "    .dataframe tbody tr th:only-of-type {\n",
       "        vertical-align: middle;\n",
       "    }\n",
       "\n",
       "    .dataframe tbody tr th {\n",
       "        vertical-align: top;\n",
       "    }\n",
       "\n",
       "    .dataframe thead th {\n",
       "        text-align: right;\n",
       "    }\n",
       "</style>\n",
       "<table border=\"1\" class=\"dataframe\">\n",
       "  <thead>\n",
       "    <tr style=\"text-align: right;\">\n",
       "      <th></th>\n",
       "      <th>model</th>\n",
       "      <th>year</th>\n",
       "      <th>price</th>\n",
       "      <th>transmission</th>\n",
       "      <th>mileage</th>\n",
       "      <th>fuelType</th>\n",
       "      <th>tax</th>\n",
       "      <th>mpg</th>\n",
       "      <th>engineSize</th>\n",
       "      <th>brand</th>\n",
       "    </tr>\n",
       "  </thead>\n",
       "  <tbody>\n",
       "    <tr>\n",
       "      <th>0</th>\n",
       "      <td>Corsa</td>\n",
       "      <td>2018</td>\n",
       "      <td>7885</td>\n",
       "      <td>Manual</td>\n",
       "      <td>9876</td>\n",
       "      <td>Petrol</td>\n",
       "      <td>145</td>\n",
       "      <td>55.4</td>\n",
       "      <td>1.4</td>\n",
       "      <td>Vauxhall</td>\n",
       "    </tr>\n",
       "    <tr>\n",
       "      <th>1</th>\n",
       "      <td>Corsa</td>\n",
       "      <td>2019</td>\n",
       "      <td>11995</td>\n",
       "      <td>Manual</td>\n",
       "      <td>2500</td>\n",
       "      <td>Petrol</td>\n",
       "      <td>145</td>\n",
       "      <td>54.3</td>\n",
       "      <td>1.4</td>\n",
       "      <td>Vauxhall</td>\n",
       "    </tr>\n",
       "    <tr>\n",
       "      <th>2</th>\n",
       "      <td>Corsa</td>\n",
       "      <td>2017</td>\n",
       "      <td>9777</td>\n",
       "      <td>Automatic</td>\n",
       "      <td>9625</td>\n",
       "      <td>Petrol</td>\n",
       "      <td>145</td>\n",
       "      <td>47.9</td>\n",
       "      <td>1.4</td>\n",
       "      <td>Vauxhall</td>\n",
       "    </tr>\n",
       "    <tr>\n",
       "      <th>3</th>\n",
       "      <td>Corsa</td>\n",
       "      <td>2016</td>\n",
       "      <td>8500</td>\n",
       "      <td>Manual</td>\n",
       "      <td>25796</td>\n",
       "      <td>Petrol</td>\n",
       "      <td>30</td>\n",
       "      <td>55.4</td>\n",
       "      <td>1.4</td>\n",
       "      <td>Vauxhall</td>\n",
       "    </tr>\n",
       "    <tr>\n",
       "      <th>4</th>\n",
       "      <td>Corsa</td>\n",
       "      <td>2019</td>\n",
       "      <td>10000</td>\n",
       "      <td>Manual</td>\n",
       "      <td>3887</td>\n",
       "      <td>Petrol</td>\n",
       "      <td>145</td>\n",
       "      <td>43.5</td>\n",
       "      <td>1.4</td>\n",
       "      <td>Vauxhall</td>\n",
       "    </tr>\n",
       "  </tbody>\n",
       "</table>\n",
       "</div>"
      ],
      "text/plain": [
       "    model  year  price transmission  mileage fuelType  tax   mpg  engineSize  \\\n",
       "0   Corsa  2018   7885       Manual     9876   Petrol  145  55.4         1.4   \n",
       "1   Corsa  2019  11995       Manual     2500   Petrol  145  54.3         1.4   \n",
       "2   Corsa  2017   9777    Automatic     9625   Petrol  145  47.9         1.4   \n",
       "3   Corsa  2016   8500       Manual    25796   Petrol   30  55.4         1.4   \n",
       "4   Corsa  2019  10000       Manual     3887   Petrol  145  43.5         1.4   \n",
       "\n",
       "      brand  \n",
       "0  Vauxhall  \n",
       "1  Vauxhall  \n",
       "2  Vauxhall  \n",
       "3  Vauxhall  \n",
       "4  Vauxhall  "
      ]
     },
     "execution_count": 15,
     "metadata": {},
     "output_type": "execute_result"
    }
   ],
   "source": [
    "df_vau = pd.read_csv(\"datasets/vauxhall.csv\")\n",
    "qtd_lines = df_vau.shape[0]\n",
    "\n",
    "df_vau['brand'] = (\"Vauxhall,\" * qtd_lines).split(',')[:-1]\n",
    "df_vau.head()"
   ]
  },
  {
   "cell_type": "markdown",
   "metadata": {},
   "source": [
    "### VW"
   ]
  },
  {
   "cell_type": "code",
   "execution_count": 16,
   "metadata": {},
   "outputs": [
    {
     "data": {
      "text/html": [
       "<div>\n",
       "<style scoped>\n",
       "    .dataframe tbody tr th:only-of-type {\n",
       "        vertical-align: middle;\n",
       "    }\n",
       "\n",
       "    .dataframe tbody tr th {\n",
       "        vertical-align: top;\n",
       "    }\n",
       "\n",
       "    .dataframe thead th {\n",
       "        text-align: right;\n",
       "    }\n",
       "</style>\n",
       "<table border=\"1\" class=\"dataframe\">\n",
       "  <thead>\n",
       "    <tr style=\"text-align: right;\">\n",
       "      <th></th>\n",
       "      <th>model</th>\n",
       "      <th>year</th>\n",
       "      <th>price</th>\n",
       "      <th>transmission</th>\n",
       "      <th>mileage</th>\n",
       "      <th>fuelType</th>\n",
       "      <th>tax</th>\n",
       "      <th>mpg</th>\n",
       "      <th>engineSize</th>\n",
       "      <th>brand</th>\n",
       "    </tr>\n",
       "  </thead>\n",
       "  <tbody>\n",
       "    <tr>\n",
       "      <th>0</th>\n",
       "      <td>T-Roc</td>\n",
       "      <td>2019</td>\n",
       "      <td>25000</td>\n",
       "      <td>Automatic</td>\n",
       "      <td>13904</td>\n",
       "      <td>Diesel</td>\n",
       "      <td>145</td>\n",
       "      <td>49.6</td>\n",
       "      <td>2.0</td>\n",
       "      <td>VW</td>\n",
       "    </tr>\n",
       "    <tr>\n",
       "      <th>1</th>\n",
       "      <td>T-Roc</td>\n",
       "      <td>2019</td>\n",
       "      <td>26883</td>\n",
       "      <td>Automatic</td>\n",
       "      <td>4562</td>\n",
       "      <td>Diesel</td>\n",
       "      <td>145</td>\n",
       "      <td>49.6</td>\n",
       "      <td>2.0</td>\n",
       "      <td>VW</td>\n",
       "    </tr>\n",
       "    <tr>\n",
       "      <th>2</th>\n",
       "      <td>T-Roc</td>\n",
       "      <td>2019</td>\n",
       "      <td>20000</td>\n",
       "      <td>Manual</td>\n",
       "      <td>7414</td>\n",
       "      <td>Diesel</td>\n",
       "      <td>145</td>\n",
       "      <td>50.4</td>\n",
       "      <td>2.0</td>\n",
       "      <td>VW</td>\n",
       "    </tr>\n",
       "    <tr>\n",
       "      <th>3</th>\n",
       "      <td>T-Roc</td>\n",
       "      <td>2019</td>\n",
       "      <td>33492</td>\n",
       "      <td>Automatic</td>\n",
       "      <td>4825</td>\n",
       "      <td>Petrol</td>\n",
       "      <td>145</td>\n",
       "      <td>32.5</td>\n",
       "      <td>2.0</td>\n",
       "      <td>VW</td>\n",
       "    </tr>\n",
       "    <tr>\n",
       "      <th>4</th>\n",
       "      <td>T-Roc</td>\n",
       "      <td>2019</td>\n",
       "      <td>22900</td>\n",
       "      <td>Semi-Auto</td>\n",
       "      <td>6500</td>\n",
       "      <td>Petrol</td>\n",
       "      <td>150</td>\n",
       "      <td>39.8</td>\n",
       "      <td>1.5</td>\n",
       "      <td>VW</td>\n",
       "    </tr>\n",
       "  </tbody>\n",
       "</table>\n",
       "</div>"
      ],
      "text/plain": [
       "    model  year  price transmission  mileage fuelType  tax   mpg  engineSize  \\\n",
       "0   T-Roc  2019  25000    Automatic    13904   Diesel  145  49.6         2.0   \n",
       "1   T-Roc  2019  26883    Automatic     4562   Diesel  145  49.6         2.0   \n",
       "2   T-Roc  2019  20000       Manual     7414   Diesel  145  50.4         2.0   \n",
       "3   T-Roc  2019  33492    Automatic     4825   Petrol  145  32.5         2.0   \n",
       "4   T-Roc  2019  22900    Semi-Auto     6500   Petrol  150  39.8         1.5   \n",
       "\n",
       "  brand  \n",
       "0    VW  \n",
       "1    VW  \n",
       "2    VW  \n",
       "3    VW  \n",
       "4    VW  "
      ]
     },
     "execution_count": 16,
     "metadata": {},
     "output_type": "execute_result"
    }
   ],
   "source": [
    "df_vw = pd.read_csv(\"datasets/vw.csv\")\n",
    "qtd_lines = df_vw.shape[0]\n",
    "\n",
    "df_vw['brand'] = (\"VW,\" * qtd_lines).split(',')[:-1]\n",
    "df_vw.head()"
   ]
  },
  {
   "cell_type": "markdown",
   "metadata": {},
   "source": [
    "### Concatenar os datasets em um único dataframe"
   ]
  },
  {
   "cell_type": "code",
   "execution_count": 17,
   "metadata": {},
   "outputs": [
    {
     "data": {
      "text/html": [
       "<div>\n",
       "<style scoped>\n",
       "    .dataframe tbody tr th:only-of-type {\n",
       "        vertical-align: middle;\n",
       "    }\n",
       "\n",
       "    .dataframe tbody tr th {\n",
       "        vertical-align: top;\n",
       "    }\n",
       "\n",
       "    .dataframe thead th {\n",
       "        text-align: right;\n",
       "    }\n",
       "</style>\n",
       "<table border=\"1\" class=\"dataframe\">\n",
       "  <thead>\n",
       "    <tr style=\"text-align: right;\">\n",
       "      <th></th>\n",
       "      <th>model</th>\n",
       "      <th>year</th>\n",
       "      <th>price</th>\n",
       "      <th>transmission</th>\n",
       "      <th>mileage</th>\n",
       "      <th>fuelType</th>\n",
       "      <th>tax</th>\n",
       "      <th>mpg</th>\n",
       "      <th>engineSize</th>\n",
       "      <th>brand</th>\n",
       "    </tr>\n",
       "  </thead>\n",
       "  <tbody>\n",
       "    <tr>\n",
       "      <th>0</th>\n",
       "      <td>A1</td>\n",
       "      <td>2017</td>\n",
       "      <td>12500</td>\n",
       "      <td>Manual</td>\n",
       "      <td>15735</td>\n",
       "      <td>Petrol</td>\n",
       "      <td>150</td>\n",
       "      <td>55.4</td>\n",
       "      <td>1.4</td>\n",
       "      <td>Audi</td>\n",
       "    </tr>\n",
       "    <tr>\n",
       "      <th>1</th>\n",
       "      <td>A6</td>\n",
       "      <td>2016</td>\n",
       "      <td>16500</td>\n",
       "      <td>Automatic</td>\n",
       "      <td>36203</td>\n",
       "      <td>Diesel</td>\n",
       "      <td>20</td>\n",
       "      <td>64.2</td>\n",
       "      <td>2.0</td>\n",
       "      <td>Audi</td>\n",
       "    </tr>\n",
       "    <tr>\n",
       "      <th>2</th>\n",
       "      <td>A1</td>\n",
       "      <td>2016</td>\n",
       "      <td>11000</td>\n",
       "      <td>Manual</td>\n",
       "      <td>29946</td>\n",
       "      <td>Petrol</td>\n",
       "      <td>30</td>\n",
       "      <td>55.4</td>\n",
       "      <td>1.4</td>\n",
       "      <td>Audi</td>\n",
       "    </tr>\n",
       "    <tr>\n",
       "      <th>3</th>\n",
       "      <td>A4</td>\n",
       "      <td>2017</td>\n",
       "      <td>16800</td>\n",
       "      <td>Automatic</td>\n",
       "      <td>25952</td>\n",
       "      <td>Diesel</td>\n",
       "      <td>145</td>\n",
       "      <td>67.3</td>\n",
       "      <td>2.0</td>\n",
       "      <td>Audi</td>\n",
       "    </tr>\n",
       "    <tr>\n",
       "      <th>4</th>\n",
       "      <td>A3</td>\n",
       "      <td>2019</td>\n",
       "      <td>17300</td>\n",
       "      <td>Manual</td>\n",
       "      <td>1998</td>\n",
       "      <td>Petrol</td>\n",
       "      <td>145</td>\n",
       "      <td>49.6</td>\n",
       "      <td>1.0</td>\n",
       "      <td>Audi</td>\n",
       "    </tr>\n",
       "  </tbody>\n",
       "</table>\n",
       "</div>"
      ],
      "text/plain": [
       "  model  year  price transmission  mileage fuelType  tax   mpg  engineSize  \\\n",
       "0    A1  2017  12500       Manual    15735   Petrol  150  55.4         1.4   \n",
       "1    A6  2016  16500    Automatic    36203   Diesel   20  64.2         2.0   \n",
       "2    A1  2016  11000       Manual    29946   Petrol   30  55.4         1.4   \n",
       "3    A4  2017  16800    Automatic    25952   Diesel  145  67.3         2.0   \n",
       "4    A3  2019  17300       Manual     1998   Petrol  145  49.6         1.0   \n",
       "\n",
       "  brand  \n",
       "0  Audi  \n",
       "1  Audi  \n",
       "2  Audi  \n",
       "3  Audi  \n",
       "4  Audi  "
      ]
     },
     "execution_count": 17,
     "metadata": {},
     "output_type": "execute_result"
    }
   ],
   "source": [
    "df = pd.concat([df_aud, df_bmw, df_hyu, df_sko, df_toy, df_vau, df_vw, df_mer2, df_for2])\n",
    "df.head()"
   ]
  },
  {
   "cell_type": "code",
   "execution_count": 18,
   "metadata": {},
   "outputs": [
    {
     "data": {
      "text/plain": [
       "(99187, 10)"
      ]
     },
     "execution_count": 18,
     "metadata": {},
     "output_type": "execute_result"
    }
   ],
   "source": [
    "df.shape"
   ]
  },
  {
   "cell_type": "markdown",
   "metadata": {},
   "source": [
    "## 2 - Análise exploratória dos dados"
   ]
  },
  {
   "cell_type": "code",
   "execution_count": 19,
   "metadata": {},
   "outputs": [
    {
     "data": {
      "text/html": [
       "<div>\n",
       "<style scoped>\n",
       "    .dataframe tbody tr th:only-of-type {\n",
       "        vertical-align: middle;\n",
       "    }\n",
       "\n",
       "    .dataframe tbody tr th {\n",
       "        vertical-align: top;\n",
       "    }\n",
       "\n",
       "    .dataframe thead th {\n",
       "        text-align: right;\n",
       "    }\n",
       "</style>\n",
       "<table border=\"1\" class=\"dataframe\">\n",
       "  <thead>\n",
       "    <tr style=\"text-align: right;\">\n",
       "      <th></th>\n",
       "      <th>model</th>\n",
       "      <th>year</th>\n",
       "      <th>price</th>\n",
       "      <th>transmission</th>\n",
       "      <th>mileage</th>\n",
       "      <th>fuelType</th>\n",
       "      <th>tax</th>\n",
       "      <th>mpg</th>\n",
       "      <th>engineSize</th>\n",
       "      <th>brand</th>\n",
       "    </tr>\n",
       "  </thead>\n",
       "  <tbody>\n",
       "    <tr>\n",
       "      <th>0</th>\n",
       "      <td>A1</td>\n",
       "      <td>2017</td>\n",
       "      <td>12500</td>\n",
       "      <td>Manual</td>\n",
       "      <td>15735</td>\n",
       "      <td>Petrol</td>\n",
       "      <td>150</td>\n",
       "      <td>55.4</td>\n",
       "      <td>1.4</td>\n",
       "      <td>Audi</td>\n",
       "    </tr>\n",
       "    <tr>\n",
       "      <th>1</th>\n",
       "      <td>A6</td>\n",
       "      <td>2016</td>\n",
       "      <td>16500</td>\n",
       "      <td>Automatic</td>\n",
       "      <td>36203</td>\n",
       "      <td>Diesel</td>\n",
       "      <td>20</td>\n",
       "      <td>64.2</td>\n",
       "      <td>2.0</td>\n",
       "      <td>Audi</td>\n",
       "    </tr>\n",
       "    <tr>\n",
       "      <th>2</th>\n",
       "      <td>A1</td>\n",
       "      <td>2016</td>\n",
       "      <td>11000</td>\n",
       "      <td>Manual</td>\n",
       "      <td>29946</td>\n",
       "      <td>Petrol</td>\n",
       "      <td>30</td>\n",
       "      <td>55.4</td>\n",
       "      <td>1.4</td>\n",
       "      <td>Audi</td>\n",
       "    </tr>\n",
       "    <tr>\n",
       "      <th>3</th>\n",
       "      <td>A4</td>\n",
       "      <td>2017</td>\n",
       "      <td>16800</td>\n",
       "      <td>Automatic</td>\n",
       "      <td>25952</td>\n",
       "      <td>Diesel</td>\n",
       "      <td>145</td>\n",
       "      <td>67.3</td>\n",
       "      <td>2.0</td>\n",
       "      <td>Audi</td>\n",
       "    </tr>\n",
       "    <tr>\n",
       "      <th>4</th>\n",
       "      <td>A3</td>\n",
       "      <td>2019</td>\n",
       "      <td>17300</td>\n",
       "      <td>Manual</td>\n",
       "      <td>1998</td>\n",
       "      <td>Petrol</td>\n",
       "      <td>145</td>\n",
       "      <td>49.6</td>\n",
       "      <td>1.0</td>\n",
       "      <td>Audi</td>\n",
       "    </tr>\n",
       "  </tbody>\n",
       "</table>\n",
       "</div>"
      ],
      "text/plain": [
       "  model  year  price transmission  mileage fuelType  tax   mpg  engineSize  \\\n",
       "0    A1  2017  12500       Manual    15735   Petrol  150  55.4         1.4   \n",
       "1    A6  2016  16500    Automatic    36203   Diesel   20  64.2         2.0   \n",
       "2    A1  2016  11000       Manual    29946   Petrol   30  55.4         1.4   \n",
       "3    A4  2017  16800    Automatic    25952   Diesel  145  67.3         2.0   \n",
       "4    A3  2019  17300       Manual     1998   Petrol  145  49.6         1.0   \n",
       "\n",
       "  brand  \n",
       "0  Audi  \n",
       "1  Audi  \n",
       "2  Audi  \n",
       "3  Audi  \n",
       "4  Audi  "
      ]
     },
     "execution_count": 19,
     "metadata": {},
     "output_type": "execute_result"
    }
   ],
   "source": [
    "df.head()"
   ]
  },
  {
   "cell_type": "code",
   "execution_count": 20,
   "metadata": {},
   "outputs": [
    {
     "name": "stdout",
     "output_type": "stream",
     "text": [
      "Número de instâncias: 99187\n",
      "Número de atributos: 10\n"
     ]
    }
   ],
   "source": [
    "print(\"Número de instâncias: \" + str(df.shape[0]))\n",
    "print(\"Número de atributos: \" + str(df.shape[1]))"
   ]
  },
  {
   "cell_type": "code",
   "execution_count": 21,
   "metadata": {},
   "outputs": [
    {
     "data": {
      "text/plain": [
       "model           0\n",
       "year            0\n",
       "price           0\n",
       "transmission    0\n",
       "mileage         0\n",
       "fuelType        0\n",
       "tax             0\n",
       "mpg             0\n",
       "engineSize      0\n",
       "brand           0\n",
       "dtype: int64"
      ]
     },
     "execution_count": 21,
     "metadata": {},
     "output_type": "execute_result"
    }
   ],
   "source": [
    "# Verificando valores nulos\n",
    "df.isna().sum()"
   ]
  },
  {
   "cell_type": "markdown",
   "metadata": {},
   "source": [
    "### Modelos de carros que aparecem mais no dataset e que aparecem menos no dataset"
   ]
  },
  {
   "cell_type": "code",
   "execution_count": 22,
   "metadata": {},
   "outputs": [
    {
     "data": {
      "text/plain": [
       " Fiesta             6557\n",
       " Golf               4863\n",
       " Focus              4588\n",
       " C Class            3747\n",
       " Corsa              3441\n",
       "                    ... \n",
       " A2                    1\n",
       "200                    1\n",
       " Ranger                1\n",
       " Escort                1\n",
       " Transit Tourneo       1\n",
       "Name: model, Length: 195, dtype: int64"
      ]
     },
     "execution_count": 22,
     "metadata": {},
     "output_type": "execute_result"
    }
   ],
   "source": [
    "df['model'].value_counts()"
   ]
  },
  {
   "cell_type": "code",
   "execution_count": 23,
   "metadata": {
    "scrolled": true
   },
   "outputs": [
    {
     "name": "stdout",
     "output_type": "stream",
     "text": [
      "<class 'pandas.core.frame.DataFrame'>\n",
      "Int64Index: 99187 entries, 0 to 17964\n",
      "Data columns (total 10 columns):\n",
      " #   Column        Non-Null Count  Dtype  \n",
      "---  ------        --------------  -----  \n",
      " 0   model         99187 non-null  object \n",
      " 1   year          99187 non-null  int64  \n",
      " 2   price         99187 non-null  int64  \n",
      " 3   transmission  99187 non-null  object \n",
      " 4   mileage       99187 non-null  int64  \n",
      " 5   fuelType      99187 non-null  object \n",
      " 6   tax           99187 non-null  int64  \n",
      " 7   mpg           99187 non-null  float64\n",
      " 8   engineSize    99187 non-null  float64\n",
      " 9   brand         99187 non-null  object \n",
      "dtypes: float64(2), int64(4), object(4)\n",
      "memory usage: 8.3+ MB\n"
     ]
    }
   ],
   "source": [
    "df.info()"
   ]
  },
  {
   "cell_type": "markdown",
   "metadata": {},
   "source": [
    "## Medidas de Tendência Central:\n",
    "### Quantidade, média, desvio padrão, valor mínimo e máximo pra cada feature"
   ]
  },
  {
   "cell_type": "code",
   "execution_count": 24,
   "metadata": {
    "scrolled": true
   },
   "outputs": [
    {
     "data": {
      "text/html": [
       "<div>\n",
       "<style scoped>\n",
       "    .dataframe tbody tr th:only-of-type {\n",
       "        vertical-align: middle;\n",
       "    }\n",
       "\n",
       "    .dataframe tbody tr th {\n",
       "        vertical-align: top;\n",
       "    }\n",
       "\n",
       "    .dataframe thead th {\n",
       "        text-align: right;\n",
       "    }\n",
       "</style>\n",
       "<table border=\"1\" class=\"dataframe\">\n",
       "  <thead>\n",
       "    <tr style=\"text-align: right;\">\n",
       "      <th></th>\n",
       "      <th>year</th>\n",
       "      <th>price</th>\n",
       "      <th>mileage</th>\n",
       "      <th>tax</th>\n",
       "      <th>mpg</th>\n",
       "      <th>engineSize</th>\n",
       "    </tr>\n",
       "  </thead>\n",
       "  <tbody>\n",
       "    <tr>\n",
       "      <th>count</th>\n",
       "      <td>99187.000000</td>\n",
       "      <td>99187.000000</td>\n",
       "      <td>99187.000000</td>\n",
       "      <td>99187.000000</td>\n",
       "      <td>99187.000000</td>\n",
       "      <td>99187.000000</td>\n",
       "    </tr>\n",
       "    <tr>\n",
       "      <th>mean</th>\n",
       "      <td>2017.087723</td>\n",
       "      <td>16805.347656</td>\n",
       "      <td>23058.914213</td>\n",
       "      <td>120.299838</td>\n",
       "      <td>55.166825</td>\n",
       "      <td>1.663280</td>\n",
       "    </tr>\n",
       "    <tr>\n",
       "      <th>std</th>\n",
       "      <td>2.123934</td>\n",
       "      <td>9866.773417</td>\n",
       "      <td>21148.523721</td>\n",
       "      <td>63.150926</td>\n",
       "      <td>16.138522</td>\n",
       "      <td>0.557646</td>\n",
       "    </tr>\n",
       "    <tr>\n",
       "      <th>min</th>\n",
       "      <td>1970.000000</td>\n",
       "      <td>450.000000</td>\n",
       "      <td>1.000000</td>\n",
       "      <td>0.000000</td>\n",
       "      <td>0.300000</td>\n",
       "      <td>0.000000</td>\n",
       "    </tr>\n",
       "    <tr>\n",
       "      <th>25%</th>\n",
       "      <td>2016.000000</td>\n",
       "      <td>9999.000000</td>\n",
       "      <td>7425.000000</td>\n",
       "      <td>125.000000</td>\n",
       "      <td>47.100000</td>\n",
       "      <td>1.200000</td>\n",
       "    </tr>\n",
       "    <tr>\n",
       "      <th>50%</th>\n",
       "      <td>2017.000000</td>\n",
       "      <td>14495.000000</td>\n",
       "      <td>17460.000000</td>\n",
       "      <td>145.000000</td>\n",
       "      <td>54.300000</td>\n",
       "      <td>1.600000</td>\n",
       "    </tr>\n",
       "    <tr>\n",
       "      <th>75%</th>\n",
       "      <td>2019.000000</td>\n",
       "      <td>20870.000000</td>\n",
       "      <td>32339.000000</td>\n",
       "      <td>145.000000</td>\n",
       "      <td>62.800000</td>\n",
       "      <td>2.000000</td>\n",
       "    </tr>\n",
       "    <tr>\n",
       "      <th>max</th>\n",
       "      <td>2060.000000</td>\n",
       "      <td>159999.000000</td>\n",
       "      <td>323000.000000</td>\n",
       "      <td>580.000000</td>\n",
       "      <td>470.800000</td>\n",
       "      <td>6.600000</td>\n",
       "    </tr>\n",
       "  </tbody>\n",
       "</table>\n",
       "</div>"
      ],
      "text/plain": [
       "               year          price        mileage           tax           mpg  \\\n",
       "count  99187.000000   99187.000000   99187.000000  99187.000000  99187.000000   \n",
       "mean    2017.087723   16805.347656   23058.914213    120.299838     55.166825   \n",
       "std        2.123934    9866.773417   21148.523721     63.150926     16.138522   \n",
       "min     1970.000000     450.000000       1.000000      0.000000      0.300000   \n",
       "25%     2016.000000    9999.000000    7425.000000    125.000000     47.100000   \n",
       "50%     2017.000000   14495.000000   17460.000000    145.000000     54.300000   \n",
       "75%     2019.000000   20870.000000   32339.000000    145.000000     62.800000   \n",
       "max     2060.000000  159999.000000  323000.000000    580.000000    470.800000   \n",
       "\n",
       "         engineSize  \n",
       "count  99187.000000  \n",
       "mean       1.663280  \n",
       "std        0.557646  \n",
       "min        0.000000  \n",
       "25%        1.200000  \n",
       "50%        1.600000  \n",
       "75%        2.000000  \n",
       "max        6.600000  "
      ]
     },
     "execution_count": 24,
     "metadata": {},
     "output_type": "execute_result"
    }
   ],
   "source": [
    "df.describe()"
   ]
  },
  {
   "cell_type": "markdown",
   "metadata": {},
   "source": [
    "### Mediana dos preços dos carros por marca"
   ]
  },
  {
   "cell_type": "code",
   "execution_count": 25,
   "metadata": {},
   "outputs": [
    {
     "name": "stdout",
     "output_type": "stream",
     "text": [
      "Mediana dos preços dos carros por marca:\n",
      "Ford: 11291.0\n",
      "VW: 15497.0\n",
      "Vauxhall: 9999.0\n",
      "Mercesdes: 22480.0\n",
      "Bmw: 20462.0\n",
      "Audi: 20200.0\n",
      "Toyota: 10795.0\n",
      "Skoda: 12998.0\n",
      "Hyundi: 11990.0\n"
     ]
    }
   ],
   "source": [
    "print(\"Mediana dos preços dos carros por marca:\")\n",
    "\n",
    "brands = ['Ford', 'VW', 'Vauxhall', 'Mercesdes', 'Bmw', 'Audi', 'Toyota', 'Skoda', 'Hyundi']\n",
    "for brand in brands:\n",
    "    print(f\"{brand}:\", df.loc[df['brand'] == brand]['price'].median())"
   ]
  },
  {
   "cell_type": "markdown",
   "metadata": {},
   "source": [
    "### Desvio:"
   ]
  },
  {
   "cell_type": "code",
   "execution_count": 26,
   "metadata": {
    "scrolled": true
   },
   "outputs": [
    {
     "name": "stdout",
     "output_type": "stream",
     "text": [
      "Média dos preços dos carros: 16805.347656446913\n"
     ]
    }
   ],
   "source": [
    "# Calculando a média dos preços dos carros\n",
    "media_precos = df['price'].mean()\n",
    "print(\"Média dos preços dos carros:\", media_precos)"
   ]
  },
  {
   "cell_type": "code",
   "execution_count": 27,
   "metadata": {
    "scrolled": true
   },
   "outputs": [
    {
     "data": {
      "text/plain": [
       "0       -4305.347656\n",
       "1        -305.347656\n",
       "2       -5805.347656\n",
       "3          -5.347656\n",
       "4         494.652344\n",
       "            ...     \n",
       "17960   -8806.347656\n",
       "17961   -7806.347656\n",
       "17962   -9306.347656\n",
       "17963   -6806.347656\n",
       "17964   -8506.347656\n",
       "Name: price, Length: 99187, dtype: float64"
      ]
     },
     "execution_count": 27,
     "metadata": {},
     "output_type": "execute_result"
    }
   ],
   "source": [
    "# Calculando o Desvio\n",
    "d = df['price'].apply(lambda x: x - media_precos)\n",
    "d"
   ]
  },
  {
   "cell_type": "code",
   "execution_count": 28,
   "metadata": {},
   "outputs": [
    {
     "data": {
      "text/plain": [
       "1.6761568766227761e-09"
      ]
     },
     "execution_count": 28,
     "metadata": {},
     "output_type": "execute_result"
    }
   ],
   "source": [
    "d.mean()"
   ]
  },
  {
   "cell_type": "markdown",
   "metadata": {},
   "source": [
    "### Desvio Absoluto Médio (ou Média do Desvio Absoluto)"
   ]
  },
  {
   "cell_type": "code",
   "execution_count": 29,
   "metadata": {},
   "outputs": [
    {
     "data": {
      "text/plain": [
       "7096.737683542909"
      ]
     },
     "execution_count": 29,
     "metadata": {},
     "output_type": "execute_result"
    }
   ],
   "source": [
    "df['price'].mad()"
   ]
  },
  {
   "cell_type": "markdown",
   "metadata": {},
   "source": [
    "### Variância"
   ]
  },
  {
   "cell_type": "code",
   "execution_count": 30,
   "metadata": {},
   "outputs": [
    {
     "data": {
      "text/plain": [
       "97353217.66781962"
      ]
     },
     "execution_count": 30,
     "metadata": {},
     "output_type": "execute_result"
    }
   ],
   "source": [
    "df['price'].var()"
   ]
  },
  {
   "cell_type": "markdown",
   "metadata": {},
   "source": [
    "### Desvio Padrão"
   ]
  },
  {
   "cell_type": "code",
   "execution_count": 31,
   "metadata": {},
   "outputs": [
    {
     "data": {
      "text/plain": [
       "9866.773417273735"
      ]
     },
     "execution_count": 31,
     "metadata": {},
     "output_type": "execute_result"
    }
   ],
   "source": [
    "df['price'].std()"
   ]
  },
  {
   "cell_type": "markdown",
   "metadata": {},
   "source": [
    "### Tabelas de Frequência e Histogramas:"
   ]
  },
  {
   "cell_type": "markdown",
   "metadata": {},
   "source": [
    "### Distribuição das features"
   ]
  },
  {
   "cell_type": "code",
   "execution_count": 32,
   "metadata": {
    "scrolled": false
   },
   "outputs": [
    {
     "data": {
      "image/png": "[encoded data removed]",
      "text/plain": [
       "<Figure size 1080x360 with 1 Axes>"
      ]
     },
     "metadata": {
      "needs_background": "light"
     },
     "output_type": "display_data"
    }
   ],
   "source": [
    "plt.figure(figsize=(15, 5))\n",
    "sns.countplot(df[\"year\"]);"
   ]
  },
  {
   "cell_type": "code",
   "execution_count": 33,
   "metadata": {
    "scrolled": true
   },
   "outputs": [
    {
     "data": {
      "image/png": "[encoded data removed]",
      "text/plain": [
       "<Figure size 432x288 with 1 Axes>"
      ]
     },
     "metadata": {
      "needs_background": "light"
     },
     "output_type": "display_data"
    }
   ],
   "source": [
    "sns.countplot(df[\"transmission\"]);"
   ]
  },
  {
   "cell_type": "code",
   "execution_count": 34,
   "metadata": {},
   "outputs": [
    {
     "data": {
      "image/png": "[encoded data removed]",
      "text/plain": [
       "<Figure size 432x288 with 1 Axes>"
      ]
     },
     "metadata": {
      "needs_background": "light"
     },
     "output_type": "display_data"
    }
   ],
   "source": [
    "sns.countplot(df[\"fuelType\"]);"
   ]
  },
  {
   "cell_type": "code",
   "execution_count": 35,
   "metadata": {},
   "outputs": [
    {
     "data": {
      "image/png": "[encoded data removed]",
      "text/plain": [
       "<Figure size 576x360 with 1 Axes>"
      ]
     },
     "metadata": {
      "needs_background": "light"
     },
     "output_type": "display_data"
    }
   ],
   "source": [
    "plt.figure(figsize=(8, 5))\n",
    "sns.countplot(df[\"brand\"]);"
   ]
  },
  {
   "cell_type": "code",
   "execution_count": 36,
   "metadata": {
    "scrolled": true
   },
   "outputs": [
    {
     "data": {
      "text/plain": [
       "2019    26771\n",
       "2017    21733\n",
       "2016    15850\n",
       "2018    13664\n",
       "2015     7645\n",
       "2020     4465\n",
       "2014     4085\n",
       "2013     2603\n",
       "2012      634\n",
       "2011      432\n",
       "2010      340\n",
       "2009      278\n",
       "2008      200\n",
       "2007      163\n",
       "2006       86\n",
       "2005       69\n",
       "2004       52\n",
       "2003       34\n",
       "2002       31\n",
       "2001       20\n",
       "2000        9\n",
       "1998        8\n",
       "1999        6\n",
       "1997        4\n",
       "1996        2\n",
       "1970        2\n",
       "2060        1\n",
       "Name: year, dtype: int64"
      ]
     },
     "execution_count": 36,
     "metadata": {},
     "output_type": "execute_result"
    }
   ],
   "source": [
    "# Quantidade de carros por ano \n",
    "\n",
    "df['year'].value_counts()"
   ]
  },
  {
   "cell_type": "code",
   "execution_count": 37,
   "metadata": {},
   "outputs": [
    {
     "name": "stdout",
     "output_type": "stream",
     "text": [
      " Fiesta             0.066107\n",
      " Golf               0.049029\n",
      " Focus              0.046256\n",
      " C Class            0.037777\n",
      " Corsa              0.034692\n",
      "                      ...   \n",
      " A2                 0.000010\n",
      "200                 0.000010\n",
      " Ranger             0.000010\n",
      " Escort             0.000010\n",
      " Transit Tourneo    0.000010\n",
      "Name: model, Length: 195, dtype: float64\n"
     ]
    }
   ],
   "source": [
    "# Proporção de modelos no dataframe\n",
    "\n",
    "print(df[\"model\"].value_counts() / len(df))"
   ]
  },
  {
   "cell_type": "code",
   "execution_count": 38,
   "metadata": {
    "scrolled": false
   },
   "outputs": [
    {
     "data": {
      "image/png": "[encoded data removed]",
      "text/plain": [
       "<Figure size 720x2520 with 1 Axes>"
      ]
     },
     "metadata": {
      "needs_background": "light"
     },
     "output_type": "display_data"
    }
   ],
   "source": [
    "# Os três carros que mais têm no dataframe são: Fiesta, Golf e Focus.\n",
    "\n",
    "plt.figure(figsize=(10, 35))\n",
    "sns.countplot(y = df[\"model\"]);"
   ]
  },
  {
   "cell_type": "code",
   "execution_count": 39,
   "metadata": {
    "scrolled": false
   },
   "outputs": [
    {
     "data": {
      "image/png": "[encoded data removed]",
      "text/plain": [
       "<Figure size 1080x360 with 1 Axes>"
      ]
     },
     "metadata": {},
     "output_type": "display_data"
    }
   ],
   "source": [
    "plt.figure(figsize=(15,5),facecolor='w') \n",
    "sns.barplot(x = df[\"year\"], y = df[\"price\"]);"
   ]
  },
  {
   "cell_type": "code",
   "execution_count": 40,
   "metadata": {
    "scrolled": true
   },
   "outputs": [
    {
     "data": {
      "image/png": "[encoded data removed]",
      "text/plain": [
       "<Figure size 432x288 with 1 Axes>"
      ]
     },
     "metadata": {
      "needs_background": "light"
     },
     "output_type": "display_data"
    }
   ],
   "source": [
    "sns.barplot(x = df[\"transmission\"], y = df[\"price\"]);"
   ]
  },
  {
   "cell_type": "markdown",
   "metadata": {},
   "source": [
    "### Calculando o número ideal de bins k = ⌈1 + 3,3 log10(tamanho_do_dataset)⌉"
   ]
  },
  {
   "cell_type": "code",
   "execution_count": 41,
   "metadata": {},
   "outputs": [
    {
     "data": {
      "text/plain": [
       "21"
      ]
     },
     "execution_count": 41,
     "metadata": {},
     "output_type": "execute_result"
    }
   ],
   "source": [
    "k = math.ceil(1 + 3.3 * math.log10(df.size))\n",
    "k"
   ]
  },
  {
   "cell_type": "code",
   "execution_count": 42,
   "metadata": {},
   "outputs": [
    {
     "data": {
      "image/png": "[encoded data removed]",
      "text/plain": [
       "<Figure size 432x288 with 1 Axes>"
      ]
     },
     "metadata": {
      "needs_background": "light"
     },
     "output_type": "display_data"
    }
   ],
   "source": [
    "plt.hist(df['price'], bins=k)\n",
    "plt.show()"
   ]
  },
  {
   "cell_type": "markdown",
   "metadata": {},
   "source": [
    "### Raiz de n"
   ]
  },
  {
   "cell_type": "code",
   "execution_count": 43,
   "metadata": {
    "scrolled": true
   },
   "outputs": [
    {
     "data": {
      "text/plain": [
       "995"
      ]
     },
     "execution_count": 43,
     "metadata": {},
     "output_type": "execute_result"
    }
   ],
   "source": [
    "k = int(math.sqrt(df.size))\n",
    "k"
   ]
  },
  {
   "cell_type": "code",
   "execution_count": 44,
   "metadata": {},
   "outputs": [
    {
     "data": {
      "image/png": "[encoded data removed]",
      "text/plain": [
       "<Figure size 432x288 with 1 Axes>"
      ]
     },
     "metadata": {
      "needs_background": "light"
     },
     "output_type": "display_data"
    }
   ],
   "source": [
    "plt.hist(df['price'], bins=k) \n",
    "plt.show()"
   ]
  },
  {
   "cell_type": "markdown",
   "metadata": {},
   "source": [
    "Raiz de n não gerou uma distribuição conhecida"
   ]
  },
  {
   "cell_type": "markdown",
   "metadata": {},
   "source": [
    "## 3 - Pré-processamento dos dados"
   ]
  },
  {
   "cell_type": "markdown",
   "metadata": {},
   "source": [
    "### Retirando espaços dos nomes dos modelos dos carros"
   ]
  },
  {
   "cell_type": "code",
   "execution_count": 45,
   "metadata": {
    "scrolled": true
   },
   "outputs": [
    {
     "data": {
      "text/html": [
       "<div>\n",
       "<style scoped>\n",
       "    .dataframe tbody tr th:only-of-type {\n",
       "        vertical-align: middle;\n",
       "    }\n",
       "\n",
       "    .dataframe tbody tr th {\n",
       "        vertical-align: top;\n",
       "    }\n",
       "\n",
       "    .dataframe thead th {\n",
       "        text-align: right;\n",
       "    }\n",
       "</style>\n",
       "<table border=\"1\" class=\"dataframe\">\n",
       "  <thead>\n",
       "    <tr style=\"text-align: right;\">\n",
       "      <th></th>\n",
       "      <th>model</th>\n",
       "      <th>year</th>\n",
       "      <th>price</th>\n",
       "      <th>transmission</th>\n",
       "      <th>mileage</th>\n",
       "      <th>fuelType</th>\n",
       "      <th>tax</th>\n",
       "      <th>mpg</th>\n",
       "      <th>engineSize</th>\n",
       "      <th>brand</th>\n",
       "    </tr>\n",
       "  </thead>\n",
       "  <tbody>\n",
       "    <tr>\n",
       "      <th>0</th>\n",
       "      <td>Corsa</td>\n",
       "      <td>2018</td>\n",
       "      <td>7885</td>\n",
       "      <td>Manual</td>\n",
       "      <td>9876</td>\n",
       "      <td>Petrol</td>\n",
       "      <td>145</td>\n",
       "      <td>55.4</td>\n",
       "      <td>1.4</td>\n",
       "      <td>Vauxhall</td>\n",
       "    </tr>\n",
       "    <tr>\n",
       "      <th>1</th>\n",
       "      <td>Corsa</td>\n",
       "      <td>2019</td>\n",
       "      <td>11995</td>\n",
       "      <td>Manual</td>\n",
       "      <td>2500</td>\n",
       "      <td>Petrol</td>\n",
       "      <td>145</td>\n",
       "      <td>54.3</td>\n",
       "      <td>1.4</td>\n",
       "      <td>Vauxhall</td>\n",
       "    </tr>\n",
       "    <tr>\n",
       "      <th>2</th>\n",
       "      <td>Corsa</td>\n",
       "      <td>2017</td>\n",
       "      <td>9777</td>\n",
       "      <td>Automatic</td>\n",
       "      <td>9625</td>\n",
       "      <td>Petrol</td>\n",
       "      <td>145</td>\n",
       "      <td>47.9</td>\n",
       "      <td>1.4</td>\n",
       "      <td>Vauxhall</td>\n",
       "    </tr>\n",
       "    <tr>\n",
       "      <th>3</th>\n",
       "      <td>Corsa</td>\n",
       "      <td>2016</td>\n",
       "      <td>8500</td>\n",
       "      <td>Manual</td>\n",
       "      <td>25796</td>\n",
       "      <td>Petrol</td>\n",
       "      <td>30</td>\n",
       "      <td>55.4</td>\n",
       "      <td>1.4</td>\n",
       "      <td>Vauxhall</td>\n",
       "    </tr>\n",
       "    <tr>\n",
       "      <th>4</th>\n",
       "      <td>Corsa</td>\n",
       "      <td>2019</td>\n",
       "      <td>10000</td>\n",
       "      <td>Manual</td>\n",
       "      <td>3887</td>\n",
       "      <td>Petrol</td>\n",
       "      <td>145</td>\n",
       "      <td>43.5</td>\n",
       "      <td>1.4</td>\n",
       "      <td>Vauxhall</td>\n",
       "    </tr>\n",
       "    <tr>\n",
       "      <th>...</th>\n",
       "      <td>...</td>\n",
       "      <td>...</td>\n",
       "      <td>...</td>\n",
       "      <td>...</td>\n",
       "      <td>...</td>\n",
       "      <td>...</td>\n",
       "      <td>...</td>\n",
       "      <td>...</td>\n",
       "      <td>...</td>\n",
       "      <td>...</td>\n",
       "    </tr>\n",
       "    <tr>\n",
       "      <th>3436</th>\n",
       "      <td>Corsa</td>\n",
       "      <td>2019</td>\n",
       "      <td>9585</td>\n",
       "      <td>Manual</td>\n",
       "      <td>13437</td>\n",
       "      <td>Petrol</td>\n",
       "      <td>145</td>\n",
       "      <td>43.5</td>\n",
       "      <td>1.4</td>\n",
       "      <td>Vauxhall</td>\n",
       "    </tr>\n",
       "    <tr>\n",
       "      <th>3437</th>\n",
       "      <td>Corsa</td>\n",
       "      <td>2017</td>\n",
       "      <td>9675</td>\n",
       "      <td>Manual</td>\n",
       "      <td>11384</td>\n",
       "      <td>Petrol</td>\n",
       "      <td>145</td>\n",
       "      <td>49.6</td>\n",
       "      <td>1.4</td>\n",
       "      <td>Vauxhall</td>\n",
       "    </tr>\n",
       "    <tr>\n",
       "      <th>3438</th>\n",
       "      <td>Corsa</td>\n",
       "      <td>2015</td>\n",
       "      <td>9999</td>\n",
       "      <td>Automatic</td>\n",
       "      <td>8390</td>\n",
       "      <td>Petrol</td>\n",
       "      <td>140</td>\n",
       "      <td>47.9</td>\n",
       "      <td>1.4</td>\n",
       "      <td>Vauxhall</td>\n",
       "    </tr>\n",
       "    <tr>\n",
       "      <th>3439</th>\n",
       "      <td>Corsa</td>\n",
       "      <td>2019</td>\n",
       "      <td>11395</td>\n",
       "      <td>Manual</td>\n",
       "      <td>7000</td>\n",
       "      <td>Petrol</td>\n",
       "      <td>145</td>\n",
       "      <td>43.5</td>\n",
       "      <td>1.4</td>\n",
       "      <td>Vauxhall</td>\n",
       "    </tr>\n",
       "    <tr>\n",
       "      <th>3440</th>\n",
       "      <td>Corsa</td>\n",
       "      <td>2018</td>\n",
       "      <td>9754</td>\n",
       "      <td>Manual</td>\n",
       "      <td>26000</td>\n",
       "      <td>Petrol</td>\n",
       "      <td>145</td>\n",
       "      <td>43.5</td>\n",
       "      <td>1.4</td>\n",
       "      <td>Vauxhall</td>\n",
       "    </tr>\n",
       "  </tbody>\n",
       "</table>\n",
       "<p>3441 rows × 10 columns</p>\n",
       "</div>"
      ],
      "text/plain": [
       "       model  year  price transmission  mileage fuelType  tax   mpg  \\\n",
       "0      Corsa  2018   7885       Manual     9876   Petrol  145  55.4   \n",
       "1      Corsa  2019  11995       Manual     2500   Petrol  145  54.3   \n",
       "2      Corsa  2017   9777    Automatic     9625   Petrol  145  47.9   \n",
       "3      Corsa  2016   8500       Manual    25796   Petrol   30  55.4   \n",
       "4      Corsa  2019  10000       Manual     3887   Petrol  145  43.5   \n",
       "...      ...   ...    ...          ...      ...      ...  ...   ...   \n",
       "3436   Corsa  2019   9585       Manual    13437   Petrol  145  43.5   \n",
       "3437   Corsa  2017   9675       Manual    11384   Petrol  145  49.6   \n",
       "3438   Corsa  2015   9999    Automatic     8390   Petrol  140  47.9   \n",
       "3439   Corsa  2019  11395       Manual     7000   Petrol  145  43.5   \n",
       "3440   Corsa  2018   9754       Manual    26000   Petrol  145  43.5   \n",
       "\n",
       "      engineSize     brand  \n",
       "0            1.4  Vauxhall  \n",
       "1            1.4  Vauxhall  \n",
       "2            1.4  Vauxhall  \n",
       "3            1.4  Vauxhall  \n",
       "4            1.4  Vauxhall  \n",
       "...          ...       ...  \n",
       "3436         1.4  Vauxhall  \n",
       "3437         1.4  Vauxhall  \n",
       "3438         1.4  Vauxhall  \n",
       "3439         1.4  Vauxhall  \n",
       "3440         1.4  Vauxhall  \n",
       "\n",
       "[3441 rows x 10 columns]"
      ]
     },
     "execution_count": 45,
     "metadata": {},
     "output_type": "execute_result"
    }
   ],
   "source": [
    "df.query('model == \" Corsa\"')"
   ]
  },
  {
   "cell_type": "code",
   "execution_count": 46,
   "metadata": {},
   "outputs": [
    {
     "data": {
      "text/plain": [
       "0            A1\n",
       "1            A6\n",
       "2            A1\n",
       "3            A4\n",
       "4            A3\n",
       "          ...  \n",
       "17960    Fiesta\n",
       "17961     B-MAX\n",
       "17962     B-MAX\n",
       "17963     Focus\n",
       "17964        KA\n",
       "Name: model, Length: 99187, dtype: object"
      ]
     },
     "execution_count": 46,
     "metadata": {},
     "output_type": "execute_result"
    }
   ],
   "source": [
    "# Retirar os espaços das strings (' Corsa' -> 'Corsa') e colocar em Captalize \n",
    "df['model'] = df['model'].str.strip()\n",
    "df['model']"
   ]
  },
  {
   "cell_type": "code",
   "execution_count": 47,
   "metadata": {},
   "outputs": [
    {
     "data": {
      "text/html": [
       "<div>\n",
       "<style scoped>\n",
       "    .dataframe tbody tr th:only-of-type {\n",
       "        vertical-align: middle;\n",
       "    }\n",
       "\n",
       "    .dataframe tbody tr th {\n",
       "        vertical-align: top;\n",
       "    }\n",
       "\n",
       "    .dataframe thead th {\n",
       "        text-align: right;\n",
       "    }\n",
       "</style>\n",
       "<table border=\"1\" class=\"dataframe\">\n",
       "  <thead>\n",
       "    <tr style=\"text-align: right;\">\n",
       "      <th></th>\n",
       "      <th>model</th>\n",
       "      <th>year</th>\n",
       "      <th>price</th>\n",
       "      <th>transmission</th>\n",
       "      <th>mileage</th>\n",
       "      <th>fuelType</th>\n",
       "      <th>tax</th>\n",
       "      <th>mpg</th>\n",
       "      <th>engineSize</th>\n",
       "      <th>brand</th>\n",
       "    </tr>\n",
       "  </thead>\n",
       "  <tbody>\n",
       "  </tbody>\n",
       "</table>\n",
       "</div>"
      ],
      "text/plain": [
       "Empty DataFrame\n",
       "Columns: [model, year, price, transmission, mileage, fuelType, tax, mpg, engineSize, brand]\n",
       "Index: []"
      ]
     },
     "execution_count": 47,
     "metadata": {},
     "output_type": "execute_result"
    }
   ],
   "source": [
    "df.query('model == \" Corsa\"')"
   ]
  },
  {
   "cell_type": "code",
   "execution_count": 48,
   "metadata": {
    "scrolled": false
   },
   "outputs": [
    {
     "data": {
      "text/html": [
       "<div>\n",
       "<style scoped>\n",
       "    .dataframe tbody tr th:only-of-type {\n",
       "        vertical-align: middle;\n",
       "    }\n",
       "\n",
       "    .dataframe tbody tr th {\n",
       "        vertical-align: top;\n",
       "    }\n",
       "\n",
       "    .dataframe thead th {\n",
       "        text-align: right;\n",
       "    }\n",
       "</style>\n",
       "<table border=\"1\" class=\"dataframe\">\n",
       "  <thead>\n",
       "    <tr style=\"text-align: right;\">\n",
       "      <th></th>\n",
       "      <th>model</th>\n",
       "      <th>year</th>\n",
       "      <th>price</th>\n",
       "      <th>transmission</th>\n",
       "      <th>mileage</th>\n",
       "      <th>fuelType</th>\n",
       "      <th>tax</th>\n",
       "      <th>mpg</th>\n",
       "      <th>engineSize</th>\n",
       "      <th>brand</th>\n",
       "    </tr>\n",
       "  </thead>\n",
       "  <tbody>\n",
       "    <tr>\n",
       "      <th>0</th>\n",
       "      <td>Corsa</td>\n",
       "      <td>2018</td>\n",
       "      <td>7885</td>\n",
       "      <td>Manual</td>\n",
       "      <td>9876</td>\n",
       "      <td>Petrol</td>\n",
       "      <td>145</td>\n",
       "      <td>55.4</td>\n",
       "      <td>1.4</td>\n",
       "      <td>Vauxhall</td>\n",
       "    </tr>\n",
       "    <tr>\n",
       "      <th>1</th>\n",
       "      <td>Corsa</td>\n",
       "      <td>2019</td>\n",
       "      <td>11995</td>\n",
       "      <td>Manual</td>\n",
       "      <td>2500</td>\n",
       "      <td>Petrol</td>\n",
       "      <td>145</td>\n",
       "      <td>54.3</td>\n",
       "      <td>1.4</td>\n",
       "      <td>Vauxhall</td>\n",
       "    </tr>\n",
       "    <tr>\n",
       "      <th>2</th>\n",
       "      <td>Corsa</td>\n",
       "      <td>2017</td>\n",
       "      <td>9777</td>\n",
       "      <td>Automatic</td>\n",
       "      <td>9625</td>\n",
       "      <td>Petrol</td>\n",
       "      <td>145</td>\n",
       "      <td>47.9</td>\n",
       "      <td>1.4</td>\n",
       "      <td>Vauxhall</td>\n",
       "    </tr>\n",
       "    <tr>\n",
       "      <th>3</th>\n",
       "      <td>Corsa</td>\n",
       "      <td>2016</td>\n",
       "      <td>8500</td>\n",
       "      <td>Manual</td>\n",
       "      <td>25796</td>\n",
       "      <td>Petrol</td>\n",
       "      <td>30</td>\n",
       "      <td>55.4</td>\n",
       "      <td>1.4</td>\n",
       "      <td>Vauxhall</td>\n",
       "    </tr>\n",
       "    <tr>\n",
       "      <th>4</th>\n",
       "      <td>Corsa</td>\n",
       "      <td>2019</td>\n",
       "      <td>10000</td>\n",
       "      <td>Manual</td>\n",
       "      <td>3887</td>\n",
       "      <td>Petrol</td>\n",
       "      <td>145</td>\n",
       "      <td>43.5</td>\n",
       "      <td>1.4</td>\n",
       "      <td>Vauxhall</td>\n",
       "    </tr>\n",
       "    <tr>\n",
       "      <th>...</th>\n",
       "      <td>...</td>\n",
       "      <td>...</td>\n",
       "      <td>...</td>\n",
       "      <td>...</td>\n",
       "      <td>...</td>\n",
       "      <td>...</td>\n",
       "      <td>...</td>\n",
       "      <td>...</td>\n",
       "      <td>...</td>\n",
       "      <td>...</td>\n",
       "    </tr>\n",
       "    <tr>\n",
       "      <th>3436</th>\n",
       "      <td>Corsa</td>\n",
       "      <td>2019</td>\n",
       "      <td>9585</td>\n",
       "      <td>Manual</td>\n",
       "      <td>13437</td>\n",
       "      <td>Petrol</td>\n",
       "      <td>145</td>\n",
       "      <td>43.5</td>\n",
       "      <td>1.4</td>\n",
       "      <td>Vauxhall</td>\n",
       "    </tr>\n",
       "    <tr>\n",
       "      <th>3437</th>\n",
       "      <td>Corsa</td>\n",
       "      <td>2017</td>\n",
       "      <td>9675</td>\n",
       "      <td>Manual</td>\n",
       "      <td>11384</td>\n",
       "      <td>Petrol</td>\n",
       "      <td>145</td>\n",
       "      <td>49.6</td>\n",
       "      <td>1.4</td>\n",
       "      <td>Vauxhall</td>\n",
       "    </tr>\n",
       "    <tr>\n",
       "      <th>3438</th>\n",
       "      <td>Corsa</td>\n",
       "      <td>2015</td>\n",
       "      <td>9999</td>\n",
       "      <td>Automatic</td>\n",
       "      <td>8390</td>\n",
       "      <td>Petrol</td>\n",
       "      <td>140</td>\n",
       "      <td>47.9</td>\n",
       "      <td>1.4</td>\n",
       "      <td>Vauxhall</td>\n",
       "    </tr>\n",
       "    <tr>\n",
       "      <th>3439</th>\n",
       "      <td>Corsa</td>\n",
       "      <td>2019</td>\n",
       "      <td>11395</td>\n",
       "      <td>Manual</td>\n",
       "      <td>7000</td>\n",
       "      <td>Petrol</td>\n",
       "      <td>145</td>\n",
       "      <td>43.5</td>\n",
       "      <td>1.4</td>\n",
       "      <td>Vauxhall</td>\n",
       "    </tr>\n",
       "    <tr>\n",
       "      <th>3440</th>\n",
       "      <td>Corsa</td>\n",
       "      <td>2018</td>\n",
       "      <td>9754</td>\n",
       "      <td>Manual</td>\n",
       "      <td>26000</td>\n",
       "      <td>Petrol</td>\n",
       "      <td>145</td>\n",
       "      <td>43.5</td>\n",
       "      <td>1.4</td>\n",
       "      <td>Vauxhall</td>\n",
       "    </tr>\n",
       "  </tbody>\n",
       "</table>\n",
       "<p>3441 rows × 10 columns</p>\n",
       "</div>"
      ],
      "text/plain": [
       "      model  year  price transmission  mileage fuelType  tax   mpg  \\\n",
       "0     Corsa  2018   7885       Manual     9876   Petrol  145  55.4   \n",
       "1     Corsa  2019  11995       Manual     2500   Petrol  145  54.3   \n",
       "2     Corsa  2017   9777    Automatic     9625   Petrol  145  47.9   \n",
       "3     Corsa  2016   8500       Manual    25796   Petrol   30  55.4   \n",
       "4     Corsa  2019  10000       Manual     3887   Petrol  145  43.5   \n",
       "...     ...   ...    ...          ...      ...      ...  ...   ...   \n",
       "3436  Corsa  2019   9585       Manual    13437   Petrol  145  43.5   \n",
       "3437  Corsa  2017   9675       Manual    11384   Petrol  145  49.6   \n",
       "3438  Corsa  2015   9999    Automatic     8390   Petrol  140  47.9   \n",
       "3439  Corsa  2019  11395       Manual     7000   Petrol  145  43.5   \n",
       "3440  Corsa  2018   9754       Manual    26000   Petrol  145  43.5   \n",
       "\n",
       "      engineSize     brand  \n",
       "0            1.4  Vauxhall  \n",
       "1            1.4  Vauxhall  \n",
       "2            1.4  Vauxhall  \n",
       "3            1.4  Vauxhall  \n",
       "4            1.4  Vauxhall  \n",
       "...          ...       ...  \n",
       "3436         1.4  Vauxhall  \n",
       "3437         1.4  Vauxhall  \n",
       "3438         1.4  Vauxhall  \n",
       "3439         1.4  Vauxhall  \n",
       "3440         1.4  Vauxhall  \n",
       "\n",
       "[3441 rows x 10 columns]"
      ]
     },
     "execution_count": 48,
     "metadata": {},
     "output_type": "execute_result"
    }
   ],
   "source": [
    "df.query('model == \"Corsa\"')"
   ]
  },
  {
   "cell_type": "markdown",
   "metadata": {},
   "source": [
    "### Removendo outliers"
   ]
  },
  {
   "cell_type": "code",
   "execution_count": 49,
   "metadata": {},
   "outputs": [
    {
     "data": {
      "image/png": "[encoded data removed]",
      "text/plain": [
       "<Figure size 432x1080 with 1 Axes>"
      ]
     },
     "metadata": {
      "needs_background": "light"
     },
     "output_type": "display_data"
    },
    {
     "data": {
      "image/png": "[encoded data removed]",
      "text/plain": [
       "<Figure size 432x288 with 1 Axes>"
      ]
     },
     "metadata": {
      "needs_background": "light"
     },
     "output_type": "display_data"
    },
    {
     "data": {
      "image/png": "[encoded data removed]",
      "text/plain": [
       "<Figure size 432x288 with 1 Axes>"
      ]
     },
     "metadata": {
      "needs_background": "light"
     },
     "output_type": "display_data"
    },
    {
     "data": {
      "image/png": "[encoded data removed]",
      "text/plain": [
       "<Figure size 432x288 with 1 Axes>"
      ]
     },
     "metadata": {
      "needs_background": "light"
     },
     "output_type": "display_data"
    },
    {
     "data": {
      "image/png": "[encoded data removed]",
      "text/plain": [
       "<Figure size 432x288 with 1 Axes>"
      ]
     },
     "metadata": {
      "needs_background": "light"
     },
     "output_type": "display_data"
    },
    {
     "data": {
      "image/png": "[encoded data removed]",
      "text/plain": [
       "<Figure size 432x288 with 1 Axes>"
      ]
     },
     "metadata": {
      "needs_background": "light"
     },
     "output_type": "display_data"
    }
   ],
   "source": [
    "cols_show = ['year', 'price', 'mileage', 'tax', 'mpg', 'engineSize',]\n",
    "\n",
    "plt.figure(figsize=(6, 15))\n",
    "for col in cols_show:\n",
    "    df.boxplot(column=col);\n",
    "    plt.show()"
   ]
  },
  {
   "cell_type": "code",
   "execution_count": 50,
   "metadata": {
    "scrolled": true
   },
   "outputs": [
    {
     "data": {
      "text/html": [
       "<div>\n",
       "<style scoped>\n",
       "    .dataframe tbody tr th:only-of-type {\n",
       "        vertical-align: middle;\n",
       "    }\n",
       "\n",
       "    .dataframe tbody tr th {\n",
       "        vertical-align: top;\n",
       "    }\n",
       "\n",
       "    .dataframe thead th {\n",
       "        text-align: right;\n",
       "    }\n",
       "</style>\n",
       "<table border=\"1\" class=\"dataframe\">\n",
       "  <thead>\n",
       "    <tr style=\"text-align: right;\">\n",
       "      <th></th>\n",
       "      <th>model</th>\n",
       "      <th>year</th>\n",
       "      <th>price</th>\n",
       "      <th>transmission</th>\n",
       "      <th>mileage</th>\n",
       "      <th>fuelType</th>\n",
       "      <th>tax</th>\n",
       "      <th>mpg</th>\n",
       "      <th>engineSize</th>\n",
       "      <th>brand</th>\n",
       "    </tr>\n",
       "  </thead>\n",
       "  <tbody>\n",
       "    <tr>\n",
       "      <th>17726</th>\n",
       "      <td>Fiesta</td>\n",
       "      <td>2060</td>\n",
       "      <td>6495</td>\n",
       "      <td>Automatic</td>\n",
       "      <td>54807</td>\n",
       "      <td>Petrol</td>\n",
       "      <td>205</td>\n",
       "      <td>42.8</td>\n",
       "      <td>1.4</td>\n",
       "      <td>Ford</td>\n",
       "    </tr>\n",
       "  </tbody>\n",
       "</table>\n",
       "</div>"
      ],
      "text/plain": [
       "        model  year  price transmission  mileage fuelType  tax   mpg  \\\n",
       "17726  Fiesta  2060   6495    Automatic    54807   Petrol  205  42.8   \n",
       "\n",
       "       engineSize brand  \n",
       "17726         1.4  Ford  "
      ]
     },
     "execution_count": 50,
     "metadata": {},
     "output_type": "execute_result"
    }
   ],
   "source": [
    "df.query('year == 2060')"
   ]
  },
  {
   "cell_type": "code",
   "execution_count": 51,
   "metadata": {},
   "outputs": [],
   "source": [
    "# Excluir linha com ano 2060\n",
    "df.drop(index=17726, inplace=True)"
   ]
  },
  {
   "cell_type": "code",
   "execution_count": 52,
   "metadata": {},
   "outputs": [
    {
     "data": {
      "text/html": [
       "<div>\n",
       "<style scoped>\n",
       "    .dataframe tbody tr th:only-of-type {\n",
       "        vertical-align: middle;\n",
       "    }\n",
       "\n",
       "    .dataframe tbody tr th {\n",
       "        vertical-align: top;\n",
       "    }\n",
       "\n",
       "    .dataframe thead th {\n",
       "        text-align: right;\n",
       "    }\n",
       "</style>\n",
       "<table border=\"1\" class=\"dataframe\">\n",
       "  <thead>\n",
       "    <tr style=\"text-align: right;\">\n",
       "      <th></th>\n",
       "      <th>model</th>\n",
       "      <th>year</th>\n",
       "      <th>price</th>\n",
       "      <th>transmission</th>\n",
       "      <th>mileage</th>\n",
       "      <th>fuelType</th>\n",
       "      <th>tax</th>\n",
       "      <th>mpg</th>\n",
       "      <th>engineSize</th>\n",
       "      <th>brand</th>\n",
       "    </tr>\n",
       "  </thead>\n",
       "  <tbody>\n",
       "  </tbody>\n",
       "</table>\n",
       "</div>"
      ],
      "text/plain": [
       "Empty DataFrame\n",
       "Columns: [model, year, price, transmission, mileage, fuelType, tax, mpg, engineSize, brand]\n",
       "Index: []"
      ]
     },
     "execution_count": 52,
     "metadata": {},
     "output_type": "execute_result"
    }
   ],
   "source": [
    "df.query('year == 2060')"
   ]
  },
  {
   "cell_type": "code",
   "execution_count": 53,
   "metadata": {
    "scrolled": true
   },
   "outputs": [
    {
     "data": {
      "image/png": "[encoded data removed]",
      "text/plain": [
       "<Figure size 432x648 with 1 Axes>"
      ]
     },
     "metadata": {
      "needs_background": "light"
     },
     "output_type": "display_data"
    }
   ],
   "source": [
    "plt.figure(figsize=(6, 9))\n",
    "df.boxplot(column='year');\n",
    "plt.show()"
   ]
  },
  {
   "cell_type": "code",
   "execution_count": 54,
   "metadata": {
    "scrolled": true
   },
   "outputs": [
    {
     "data": {
      "text/plain": [
       "count    99186.000000\n",
       "mean      2017.087291\n",
       "std          2.119570\n",
       "min       1970.000000\n",
       "25%       2016.000000\n",
       "50%       2017.000000\n",
       "75%       2019.000000\n",
       "max       2020.000000\n",
       "Name: year, dtype: float64"
      ]
     },
     "execution_count": 54,
     "metadata": {},
     "output_type": "execute_result"
    }
   ],
   "source": [
    "df.year.describe()"
   ]
  },
  {
   "cell_type": "code",
   "execution_count": 55,
   "metadata": {
    "scrolled": true
   },
   "outputs": [
    {
     "data": {
      "text/html": [
       "<div>\n",
       "<style scoped>\n",
       "    .dataframe tbody tr th:only-of-type {\n",
       "        vertical-align: middle;\n",
       "    }\n",
       "\n",
       "    .dataframe tbody tr th {\n",
       "        vertical-align: top;\n",
       "    }\n",
       "\n",
       "    .dataframe thead th {\n",
       "        text-align: right;\n",
       "    }\n",
       "</style>\n",
       "<table border=\"1\" class=\"dataframe\">\n",
       "  <thead>\n",
       "    <tr style=\"text-align: right;\">\n",
       "      <th></th>\n",
       "      <th>model</th>\n",
       "      <th>year</th>\n",
       "      <th>price</th>\n",
       "      <th>transmission</th>\n",
       "      <th>mileage</th>\n",
       "      <th>fuelType</th>\n",
       "      <th>tax</th>\n",
       "      <th>mpg</th>\n",
       "      <th>engineSize</th>\n",
       "      <th>brand</th>\n",
       "    </tr>\n",
       "  </thead>\n",
       "  <tbody>\n",
       "    <tr>\n",
       "      <th>198</th>\n",
       "      <td>Q7</td>\n",
       "      <td>2020</td>\n",
       "      <td>62985</td>\n",
       "      <td>Semi-Auto</td>\n",
       "      <td>10</td>\n",
       "      <td>Diesel</td>\n",
       "      <td>145</td>\n",
       "      <td>33.2</td>\n",
       "      <td>3.0</td>\n",
       "      <td>Audi</td>\n",
       "    </tr>\n",
       "    <tr>\n",
       "      <th>220</th>\n",
       "      <td>Q5</td>\n",
       "      <td>2020</td>\n",
       "      <td>37985</td>\n",
       "      <td>Semi-Auto</td>\n",
       "      <td>10</td>\n",
       "      <td>Petrol</td>\n",
       "      <td>145</td>\n",
       "      <td>32.1</td>\n",
       "      <td>2.0</td>\n",
       "      <td>Audi</td>\n",
       "    </tr>\n",
       "    <tr>\n",
       "      <th>223</th>\n",
       "      <td>Q5</td>\n",
       "      <td>2020</td>\n",
       "      <td>47895</td>\n",
       "      <td>Semi-Auto</td>\n",
       "      <td>10</td>\n",
       "      <td>Petrol</td>\n",
       "      <td>145</td>\n",
       "      <td>30.7</td>\n",
       "      <td>2.0</td>\n",
       "      <td>Audi</td>\n",
       "    </tr>\n",
       "    <tr>\n",
       "      <th>224</th>\n",
       "      <td>A4</td>\n",
       "      <td>2020</td>\n",
       "      <td>31985</td>\n",
       "      <td>Semi-Auto</td>\n",
       "      <td>10</td>\n",
       "      <td>Petrol</td>\n",
       "      <td>145</td>\n",
       "      <td>42.2</td>\n",
       "      <td>2.0</td>\n",
       "      <td>Audi</td>\n",
       "    </tr>\n",
       "    <tr>\n",
       "      <th>316</th>\n",
       "      <td>Q7</td>\n",
       "      <td>2020</td>\n",
       "      <td>82995</td>\n",
       "      <td>Semi-Auto</td>\n",
       "      <td>826</td>\n",
       "      <td>Diesel</td>\n",
       "      <td>145</td>\n",
       "      <td>29.4</td>\n",
       "      <td>4.0</td>\n",
       "      <td>Audi</td>\n",
       "    </tr>\n",
       "    <tr>\n",
       "      <th>...</th>\n",
       "      <td>...</td>\n",
       "      <td>...</td>\n",
       "      <td>...</td>\n",
       "      <td>...</td>\n",
       "      <td>...</td>\n",
       "      <td>...</td>\n",
       "      <td>...</td>\n",
       "      <td>...</td>\n",
       "      <td>...</td>\n",
       "      <td>...</td>\n",
       "    </tr>\n",
       "    <tr>\n",
       "      <th>17902</th>\n",
       "      <td>Fiesta</td>\n",
       "      <td>2020</td>\n",
       "      <td>16999</td>\n",
       "      <td>Manual</td>\n",
       "      <td>1963</td>\n",
       "      <td>Petrol</td>\n",
       "      <td>145</td>\n",
       "      <td>58.9</td>\n",
       "      <td>1.0</td>\n",
       "      <td>Ford</td>\n",
       "    </tr>\n",
       "    <tr>\n",
       "      <th>17903</th>\n",
       "      <td>Focus</td>\n",
       "      <td>2020</td>\n",
       "      <td>24999</td>\n",
       "      <td>Manual</td>\n",
       "      <td>4900</td>\n",
       "      <td>Petrol</td>\n",
       "      <td>145</td>\n",
       "      <td>34.5</td>\n",
       "      <td>2.3</td>\n",
       "      <td>Ford</td>\n",
       "    </tr>\n",
       "    <tr>\n",
       "      <th>17939</th>\n",
       "      <td>Fiesta</td>\n",
       "      <td>2020</td>\n",
       "      <td>15799</td>\n",
       "      <td>Manual</td>\n",
       "      <td>120</td>\n",
       "      <td>Petrol</td>\n",
       "      <td>150</td>\n",
       "      <td>58.9</td>\n",
       "      <td>1.0</td>\n",
       "      <td>Ford</td>\n",
       "    </tr>\n",
       "    <tr>\n",
       "      <th>17940</th>\n",
       "      <td>Puma</td>\n",
       "      <td>2020</td>\n",
       "      <td>21999</td>\n",
       "      <td>Manual</td>\n",
       "      <td>1879</td>\n",
       "      <td>Petrol</td>\n",
       "      <td>145</td>\n",
       "      <td>50.4</td>\n",
       "      <td>1.0</td>\n",
       "      <td>Ford</td>\n",
       "    </tr>\n",
       "    <tr>\n",
       "      <th>17941</th>\n",
       "      <td>EcoSport</td>\n",
       "      <td>2020</td>\n",
       "      <td>17499</td>\n",
       "      <td>Manual</td>\n",
       "      <td>1938</td>\n",
       "      <td>Petrol</td>\n",
       "      <td>145</td>\n",
       "      <td>51.4</td>\n",
       "      <td>1.0</td>\n",
       "      <td>Ford</td>\n",
       "    </tr>\n",
       "  </tbody>\n",
       "</table>\n",
       "<p>4465 rows × 10 columns</p>\n",
       "</div>"
      ],
      "text/plain": [
       "          model  year  price transmission  mileage fuelType  tax   mpg  \\\n",
       "198          Q7  2020  62985    Semi-Auto       10   Diesel  145  33.2   \n",
       "220          Q5  2020  37985    Semi-Auto       10   Petrol  145  32.1   \n",
       "223          Q5  2020  47895    Semi-Auto       10   Petrol  145  30.7   \n",
       "224          A4  2020  31985    Semi-Auto       10   Petrol  145  42.2   \n",
       "316          Q7  2020  82995    Semi-Auto      826   Diesel  145  29.4   \n",
       "...         ...   ...    ...          ...      ...      ...  ...   ...   \n",
       "17902    Fiesta  2020  16999       Manual     1963   Petrol  145  58.9   \n",
       "17903     Focus  2020  24999       Manual     4900   Petrol  145  34.5   \n",
       "17939    Fiesta  2020  15799       Manual      120   Petrol  150  58.9   \n",
       "17940      Puma  2020  21999       Manual     1879   Petrol  145  50.4   \n",
       "17941  EcoSport  2020  17499       Manual     1938   Petrol  145  51.4   \n",
       "\n",
       "       engineSize brand  \n",
       "198           3.0  Audi  \n",
       "220           2.0  Audi  \n",
       "223           2.0  Audi  \n",
       "224           2.0  Audi  \n",
       "316           4.0  Audi  \n",
       "...           ...   ...  \n",
       "17902         1.0  Ford  \n",
       "17903         2.3  Ford  \n",
       "17939         1.0  Ford  \n",
       "17940         1.0  Ford  \n",
       "17941         1.0  Ford  \n",
       "\n",
       "[4465 rows x 10 columns]"
      ]
     },
     "execution_count": 55,
     "metadata": {},
     "output_type": "execute_result"
    }
   ],
   "source": [
    "df.query('year == 2020')"
   ]
  },
  {
   "cell_type": "code",
   "execution_count": 56,
   "metadata": {
    "scrolled": false
   },
   "outputs": [
    {
     "data": {
      "text/html": [
       "<div>\n",
       "<style scoped>\n",
       "    .dataframe tbody tr th:only-of-type {\n",
       "        vertical-align: middle;\n",
       "    }\n",
       "\n",
       "    .dataframe tbody tr th {\n",
       "        vertical-align: top;\n",
       "    }\n",
       "\n",
       "    .dataframe thead th {\n",
       "        text-align: right;\n",
       "    }\n",
       "</style>\n",
       "<table border=\"1\" class=\"dataframe\">\n",
       "  <thead>\n",
       "    <tr style=\"text-align: right;\">\n",
       "      <th></th>\n",
       "      <th>model</th>\n",
       "      <th>year</th>\n",
       "      <th>price</th>\n",
       "      <th>transmission</th>\n",
       "      <th>mileage</th>\n",
       "      <th>fuelType</th>\n",
       "      <th>tax</th>\n",
       "      <th>mpg</th>\n",
       "      <th>engineSize</th>\n",
       "      <th>brand</th>\n",
       "    </tr>\n",
       "  </thead>\n",
       "  <tbody>\n",
       "    <tr>\n",
       "      <th>7415</th>\n",
       "      <td>A5</td>\n",
       "      <td>2010</td>\n",
       "      <td>9495</td>\n",
       "      <td>Manual</td>\n",
       "      <td>76000</td>\n",
       "      <td>Petrol</td>\n",
       "      <td>235</td>\n",
       "      <td>38.7</td>\n",
       "      <td>2.0</td>\n",
       "      <td>Audi</td>\n",
       "    </tr>\n",
       "    <tr>\n",
       "      <th>7425</th>\n",
       "      <td>Q5</td>\n",
       "      <td>2010</td>\n",
       "      <td>11995</td>\n",
       "      <td>Automatic</td>\n",
       "      <td>54800</td>\n",
       "      <td>Petrol</td>\n",
       "      <td>300</td>\n",
       "      <td>33.2</td>\n",
       "      <td>2.0</td>\n",
       "      <td>Audi</td>\n",
       "    </tr>\n",
       "    <tr>\n",
       "      <th>7426</th>\n",
       "      <td>A3</td>\n",
       "      <td>2010</td>\n",
       "      <td>5495</td>\n",
       "      <td>Manual</td>\n",
       "      <td>106000</td>\n",
       "      <td>Diesel</td>\n",
       "      <td>30</td>\n",
       "      <td>64.2</td>\n",
       "      <td>2.0</td>\n",
       "      <td>Audi</td>\n",
       "    </tr>\n",
       "    <tr>\n",
       "      <th>7436</th>\n",
       "      <td>A6</td>\n",
       "      <td>2010</td>\n",
       "      <td>6995</td>\n",
       "      <td>Manual</td>\n",
       "      <td>79960</td>\n",
       "      <td>Diesel</td>\n",
       "      <td>160</td>\n",
       "      <td>49.6</td>\n",
       "      <td>2.0</td>\n",
       "      <td>Audi</td>\n",
       "    </tr>\n",
       "    <tr>\n",
       "      <th>7453</th>\n",
       "      <td>A3</td>\n",
       "      <td>2010</td>\n",
       "      <td>5495</td>\n",
       "      <td>Manual</td>\n",
       "      <td>64800</td>\n",
       "      <td>Petrol</td>\n",
       "      <td>200</td>\n",
       "      <td>40.9</td>\n",
       "      <td>1.6</td>\n",
       "      <td>Audi</td>\n",
       "    </tr>\n",
       "    <tr>\n",
       "      <th>...</th>\n",
       "      <td>...</td>\n",
       "      <td>...</td>\n",
       "      <td>...</td>\n",
       "      <td>...</td>\n",
       "      <td>...</td>\n",
       "      <td>...</td>\n",
       "      <td>...</td>\n",
       "      <td>...</td>\n",
       "      <td>...</td>\n",
       "      <td>...</td>\n",
       "    </tr>\n",
       "    <tr>\n",
       "      <th>17454</th>\n",
       "      <td>Fiesta</td>\n",
       "      <td>2010</td>\n",
       "      <td>3200</td>\n",
       "      <td>Manual</td>\n",
       "      <td>68700</td>\n",
       "      <td>Diesel</td>\n",
       "      <td>20</td>\n",
       "      <td>67.3</td>\n",
       "      <td>1.4</td>\n",
       "      <td>Ford</td>\n",
       "    </tr>\n",
       "    <tr>\n",
       "      <th>17484</th>\n",
       "      <td>Fiesta</td>\n",
       "      <td>2010</td>\n",
       "      <td>2690</td>\n",
       "      <td>Manual</td>\n",
       "      <td>109000</td>\n",
       "      <td>Diesel</td>\n",
       "      <td>0</td>\n",
       "      <td>76.3</td>\n",
       "      <td>1.6</td>\n",
       "      <td>Ford</td>\n",
       "    </tr>\n",
       "    <tr>\n",
       "      <th>17485</th>\n",
       "      <td>Mondeo</td>\n",
       "      <td>2010</td>\n",
       "      <td>2890</td>\n",
       "      <td>Manual</td>\n",
       "      <td>108000</td>\n",
       "      <td>Diesel</td>\n",
       "      <td>200</td>\n",
       "      <td>48.7</td>\n",
       "      <td>1.8</td>\n",
       "      <td>Ford</td>\n",
       "    </tr>\n",
       "    <tr>\n",
       "      <th>17731</th>\n",
       "      <td>Fiesta</td>\n",
       "      <td>2010</td>\n",
       "      <td>5995</td>\n",
       "      <td>Automatic</td>\n",
       "      <td>55000</td>\n",
       "      <td>Petrol</td>\n",
       "      <td>195</td>\n",
       "      <td>42.8</td>\n",
       "      <td>1.4</td>\n",
       "      <td>Ford</td>\n",
       "    </tr>\n",
       "    <tr>\n",
       "      <th>17757</th>\n",
       "      <td>Fusion</td>\n",
       "      <td>2010</td>\n",
       "      <td>2395</td>\n",
       "      <td>Manual</td>\n",
       "      <td>77000</td>\n",
       "      <td>Diesel</td>\n",
       "      <td>30</td>\n",
       "      <td>62.8</td>\n",
       "      <td>1.4</td>\n",
       "      <td>Ford</td>\n",
       "    </tr>\n",
       "  </tbody>\n",
       "</table>\n",
       "<p>340 rows × 10 columns</p>\n",
       "</div>"
      ],
      "text/plain": [
       "        model  year  price transmission  mileage fuelType  tax   mpg  \\\n",
       "7415       A5  2010   9495       Manual    76000   Petrol  235  38.7   \n",
       "7425       Q5  2010  11995    Automatic    54800   Petrol  300  33.2   \n",
       "7426       A3  2010   5495       Manual   106000   Diesel   30  64.2   \n",
       "7436       A6  2010   6995       Manual    79960   Diesel  160  49.6   \n",
       "7453       A3  2010   5495       Manual    64800   Petrol  200  40.9   \n",
       "...       ...   ...    ...          ...      ...      ...  ...   ...   \n",
       "17454  Fiesta  2010   3200       Manual    68700   Diesel   20  67.3   \n",
       "17484  Fiesta  2010   2690       Manual   109000   Diesel    0  76.3   \n",
       "17485  Mondeo  2010   2890       Manual   108000   Diesel  200  48.7   \n",
       "17731  Fiesta  2010   5995    Automatic    55000   Petrol  195  42.8   \n",
       "17757  Fusion  2010   2395       Manual    77000   Diesel   30  62.8   \n",
       "\n",
       "       engineSize brand  \n",
       "7415          2.0  Audi  \n",
       "7425          2.0  Audi  \n",
       "7426          2.0  Audi  \n",
       "7436          2.0  Audi  \n",
       "7453          1.6  Audi  \n",
       "...           ...   ...  \n",
       "17454         1.4  Ford  \n",
       "17484         1.6  Ford  \n",
       "17485         1.8  Ford  \n",
       "17731         1.4  Ford  \n",
       "17757         1.4  Ford  \n",
       "\n",
       "[340 rows x 10 columns]"
      ]
     },
     "execution_count": 56,
     "metadata": {},
     "output_type": "execute_result"
    }
   ],
   "source": [
    "df.query('year == 2010')"
   ]
  },
  {
   "cell_type": "code",
   "execution_count": 57,
   "metadata": {},
   "outputs": [
    {
     "data": {
      "text/plain": [
       "(99186, 10)"
      ]
     },
     "execution_count": 57,
     "metadata": {},
     "output_type": "execute_result"
    }
   ],
   "source": [
    "df.shape"
   ]
  },
  {
   "cell_type": "code",
   "execution_count": 58,
   "metadata": {},
   "outputs": [
    {
     "data": {
      "text/html": [
       "<div>\n",
       "<style scoped>\n",
       "    .dataframe tbody tr th:only-of-type {\n",
       "        vertical-align: middle;\n",
       "    }\n",
       "\n",
       "    .dataframe tbody tr th {\n",
       "        vertical-align: top;\n",
       "    }\n",
       "\n",
       "    .dataframe thead th {\n",
       "        text-align: right;\n",
       "    }\n",
       "</style>\n",
       "<table border=\"1\" class=\"dataframe\">\n",
       "  <thead>\n",
       "    <tr style=\"text-align: right;\">\n",
       "      <th></th>\n",
       "      <th>model</th>\n",
       "      <th>year</th>\n",
       "      <th>price</th>\n",
       "      <th>transmission</th>\n",
       "      <th>mileage</th>\n",
       "      <th>fuelType</th>\n",
       "      <th>tax</th>\n",
       "      <th>mpg</th>\n",
       "      <th>engineSize</th>\n",
       "      <th>brand</th>\n",
       "    </tr>\n",
       "  </thead>\n",
       "  <tbody>\n",
       "    <tr>\n",
       "      <th>7403</th>\n",
       "      <td>S4</td>\n",
       "      <td>2004</td>\n",
       "      <td>6990</td>\n",
       "      <td>Automatic</td>\n",
       "      <td>88024</td>\n",
       "      <td>Petrol</td>\n",
       "      <td>325</td>\n",
       "      <td>22.4</td>\n",
       "      <td>4.2</td>\n",
       "      <td>Audi</td>\n",
       "    </tr>\n",
       "    <tr>\n",
       "      <th>7404</th>\n",
       "      <td>A3</td>\n",
       "      <td>2009</td>\n",
       "      <td>2490</td>\n",
       "      <td>Manual</td>\n",
       "      <td>152034</td>\n",
       "      <td>Diesel</td>\n",
       "      <td>150</td>\n",
       "      <td>55.4</td>\n",
       "      <td>1.9</td>\n",
       "      <td>Audi</td>\n",
       "    </tr>\n",
       "    <tr>\n",
       "      <th>7414</th>\n",
       "      <td>A3</td>\n",
       "      <td>2009</td>\n",
       "      <td>4495</td>\n",
       "      <td>Manual</td>\n",
       "      <td>92000</td>\n",
       "      <td>Petrol</td>\n",
       "      <td>200</td>\n",
       "      <td>40.9</td>\n",
       "      <td>1.6</td>\n",
       "      <td>Audi</td>\n",
       "    </tr>\n",
       "    <tr>\n",
       "      <th>7415</th>\n",
       "      <td>A5</td>\n",
       "      <td>2010</td>\n",
       "      <td>9495</td>\n",
       "      <td>Manual</td>\n",
       "      <td>76000</td>\n",
       "      <td>Petrol</td>\n",
       "      <td>235</td>\n",
       "      <td>38.7</td>\n",
       "      <td>2.0</td>\n",
       "      <td>Audi</td>\n",
       "    </tr>\n",
       "    <tr>\n",
       "      <th>7416</th>\n",
       "      <td>A3</td>\n",
       "      <td>2009</td>\n",
       "      <td>5995</td>\n",
       "      <td>Manual</td>\n",
       "      <td>82000</td>\n",
       "      <td>Petrol</td>\n",
       "      <td>235</td>\n",
       "      <td>39.2</td>\n",
       "      <td>2.0</td>\n",
       "      <td>Audi</td>\n",
       "    </tr>\n",
       "    <tr>\n",
       "      <th>...</th>\n",
       "      <td>...</td>\n",
       "      <td>...</td>\n",
       "      <td>...</td>\n",
       "      <td>...</td>\n",
       "      <td>...</td>\n",
       "      <td>...</td>\n",
       "      <td>...</td>\n",
       "      <td>...</td>\n",
       "      <td>...</td>\n",
       "      <td>...</td>\n",
       "    </tr>\n",
       "    <tr>\n",
       "      <th>17757</th>\n",
       "      <td>Fusion</td>\n",
       "      <td>2010</td>\n",
       "      <td>2395</td>\n",
       "      <td>Manual</td>\n",
       "      <td>77000</td>\n",
       "      <td>Diesel</td>\n",
       "      <td>30</td>\n",
       "      <td>62.8</td>\n",
       "      <td>1.4</td>\n",
       "      <td>Ford</td>\n",
       "    </tr>\n",
       "    <tr>\n",
       "      <th>17758</th>\n",
       "      <td>Focus</td>\n",
       "      <td>2006</td>\n",
       "      <td>2495</td>\n",
       "      <td>Automatic</td>\n",
       "      <td>70730</td>\n",
       "      <td>Petrol</td>\n",
       "      <td>260</td>\n",
       "      <td>36.7</td>\n",
       "      <td>1.6</td>\n",
       "      <td>Ford</td>\n",
       "    </tr>\n",
       "    <tr>\n",
       "      <th>17760</th>\n",
       "      <td>C-MAX</td>\n",
       "      <td>2007</td>\n",
       "      <td>2695</td>\n",
       "      <td>Manual</td>\n",
       "      <td>82000</td>\n",
       "      <td>Petrol</td>\n",
       "      <td>235</td>\n",
       "      <td>39.8</td>\n",
       "      <td>1.8</td>\n",
       "      <td>Ford</td>\n",
       "    </tr>\n",
       "    <tr>\n",
       "      <th>17761</th>\n",
       "      <td>Focus</td>\n",
       "      <td>2005</td>\n",
       "      <td>2495</td>\n",
       "      <td>Automatic</td>\n",
       "      <td>87908</td>\n",
       "      <td>Petrol</td>\n",
       "      <td>265</td>\n",
       "      <td>36.7</td>\n",
       "      <td>1.6</td>\n",
       "      <td>Ford</td>\n",
       "    </tr>\n",
       "    <tr>\n",
       "      <th>17816</th>\n",
       "      <td>Fiesta</td>\n",
       "      <td>2009</td>\n",
       "      <td>4000</td>\n",
       "      <td>Manual</td>\n",
       "      <td>49500</td>\n",
       "      <td>Petrol</td>\n",
       "      <td>150</td>\n",
       "      <td>49.6</td>\n",
       "      <td>1.4</td>\n",
       "      <td>Ford</td>\n",
       "    </tr>\n",
       "  </tbody>\n",
       "</table>\n",
       "<p>1304 rows × 10 columns</p>\n",
       "</div>"
      ],
      "text/plain": [
       "        model  year  price transmission  mileage fuelType  tax   mpg  \\\n",
       "7403       S4  2004   6990    Automatic    88024   Petrol  325  22.4   \n",
       "7404       A3  2009   2490       Manual   152034   Diesel  150  55.4   \n",
       "7414       A3  2009   4495       Manual    92000   Petrol  200  40.9   \n",
       "7415       A5  2010   9495       Manual    76000   Petrol  235  38.7   \n",
       "7416       A3  2009   5995       Manual    82000   Petrol  235  39.2   \n",
       "...       ...   ...    ...          ...      ...      ...  ...   ...   \n",
       "17757  Fusion  2010   2395       Manual    77000   Diesel   30  62.8   \n",
       "17758   Focus  2006   2495    Automatic    70730   Petrol  260  36.7   \n",
       "17760   C-MAX  2007   2695       Manual    82000   Petrol  235  39.8   \n",
       "17761   Focus  2005   2495    Automatic    87908   Petrol  265  36.7   \n",
       "17816  Fiesta  2009   4000       Manual    49500   Petrol  150  49.6   \n",
       "\n",
       "       engineSize brand  \n",
       "7403          4.2  Audi  \n",
       "7404          1.9  Audi  \n",
       "7414          1.6  Audi  \n",
       "7415          2.0  Audi  \n",
       "7416          2.0  Audi  \n",
       "...           ...   ...  \n",
       "17757         1.4  Ford  \n",
       "17758         1.6  Ford  \n",
       "17760         1.8  Ford  \n",
       "17761         1.6  Ford  \n",
       "17816         1.4  Ford  \n",
       "\n",
       "[1304 rows x 10 columns]"
      ]
     },
     "execution_count": 58,
     "metadata": {},
     "output_type": "execute_result"
    }
   ],
   "source": [
    "df.query('year <= 2010')"
   ]
  },
  {
   "cell_type": "markdown",
   "metadata": {},
   "source": [
    "Vamos excluir as instâncias que a quantidade de modelos com ano específico é menor que 10% da quantidade de modelos com ano 2020 (ano que tem mais modelos)."
   ]
  },
  {
   "cell_type": "code",
   "execution_count": 59,
   "metadata": {},
   "outputs": [
    {
     "name": "stdout",
     "output_type": "stream",
     "text": [
      "<class 'pandas.core.frame.DataFrame'>\n",
      "Int64Index: 99186 entries, 0 to 17964\n",
      "Data columns (total 10 columns):\n",
      " #   Column        Non-Null Count  Dtype  \n",
      "---  ------        --------------  -----  \n",
      " 0   model         99186 non-null  object \n",
      " 1   year          99186 non-null  int64  \n",
      " 2   price         99186 non-null  int64  \n",
      " 3   transmission  99186 non-null  object \n",
      " 4   mileage       99186 non-null  int64  \n",
      " 5   fuelType      99186 non-null  object \n",
      " 6   tax           99186 non-null  int64  \n",
      " 7   mpg           99186 non-null  float64\n",
      " 8   engineSize    99186 non-null  float64\n",
      " 9   brand         99186 non-null  object \n",
      "dtypes: float64(2), int64(4), object(4)\n",
      "memory usage: 8.3+ MB\n"
     ]
    }
   ],
   "source": [
    "df.info()"
   ]
  },
  {
   "cell_type": "code",
   "execution_count": 60,
   "metadata": {},
   "outputs": [
    {
     "data": {
      "text/plain": [
       "(99186, 10)"
      ]
     },
     "execution_count": 60,
     "metadata": {},
     "output_type": "execute_result"
    }
   ],
   "source": [
    "df.shape "
   ]
  },
  {
   "cell_type": "code",
   "execution_count": 61,
   "metadata": {
    "scrolled": true
   },
   "outputs": [],
   "source": [
    "df.drop(df[df.year <= 2010].index, inplace=True)"
   ]
  },
  {
   "cell_type": "code",
   "execution_count": 62,
   "metadata": {},
   "outputs": [
    {
     "data": {
      "text/plain": [
       "(92413, 10)"
      ]
     },
     "execution_count": 62,
     "metadata": {},
     "output_type": "execute_result"
    }
   ],
   "source": [
    "df.shape"
   ]
  },
  {
   "cell_type": "markdown",
   "metadata": {},
   "source": [
    "Vamos excluir as instâncias que tem price (preço) maior que 140000, com base no gráfico de outliers."
   ]
  },
  {
   "cell_type": "code",
   "execution_count": 63,
   "metadata": {},
   "outputs": [],
   "source": [
    "df.drop(df[df.price > 140000].index, inplace=True)"
   ]
  },
  {
   "cell_type": "markdown",
   "metadata": {},
   "source": [
    "Vamos excluir as instâncias que tem mileage (quilometragem) maior que 200000 milhas, com base no gráfico de outliers."
   ]
  },
  {
   "cell_type": "code",
   "execution_count": 64,
   "metadata": {},
   "outputs": [],
   "source": [
    "df.drop(df[df.mileage > 200000].index, inplace=True)"
   ]
  },
  {
   "cell_type": "markdown",
   "metadata": {},
   "source": [
    "Vamos excluir as instâncias que tem mpg (milhas por galão) maior que 300, com base no gráfico de outliers."
   ]
  },
  {
   "cell_type": "code",
   "execution_count": 65,
   "metadata": {},
   "outputs": [],
   "source": [
    "df.drop(df[df.mpg > 300].index, inplace=True)"
   ]
  },
  {
   "cell_type": "code",
   "execution_count": 66,
   "metadata": {
    "scrolled": true
   },
   "outputs": [
    {
     "data": {
      "text/plain": [
       "(92044, 10)"
      ]
     },
     "execution_count": 66,
     "metadata": {},
     "output_type": "execute_result"
    }
   ],
   "source": [
    "df.shape"
   ]
  },
  {
   "cell_type": "markdown",
   "metadata": {},
   "source": [
    "### Transformando features categóricas em númericas"
   ]
  },
  {
   "cell_type": "code",
   "execution_count": 67,
   "metadata": {},
   "outputs": [],
   "source": [
    "df2 = df"
   ]
  },
  {
   "cell_type": "code",
   "execution_count": 68,
   "metadata": {},
   "outputs": [],
   "source": [
    "columns = ['model', 'transmission', 'fuelType', 'brand']"
   ]
  },
  {
   "cell_type": "code",
   "execution_count": 69,
   "metadata": {},
   "outputs": [],
   "source": [
    "classle = LabelEncoder()\n",
    "for feature in columns:\n",
    "    df2[feature] = classle.fit_transform(df2[feature].values)"
   ]
  },
  {
   "cell_type": "code",
   "execution_count": 70,
   "metadata": {
    "scrolled": true
   },
   "outputs": [
    {
     "data": {
      "text/html": [
       "<div>\n",
       "<style scoped>\n",
       "    .dataframe tbody tr th:only-of-type {\n",
       "        vertical-align: middle;\n",
       "    }\n",
       "\n",
       "    .dataframe tbody tr th {\n",
       "        vertical-align: top;\n",
       "    }\n",
       "\n",
       "    .dataframe thead th {\n",
       "        text-align: right;\n",
       "    }\n",
       "</style>\n",
       "<table border=\"1\" class=\"dataframe\">\n",
       "  <thead>\n",
       "    <tr style=\"text-align: right;\">\n",
       "      <th></th>\n",
       "      <th>model</th>\n",
       "      <th>year</th>\n",
       "      <th>price</th>\n",
       "      <th>transmission</th>\n",
       "      <th>mileage</th>\n",
       "      <th>fuelType</th>\n",
       "      <th>tax</th>\n",
       "      <th>mpg</th>\n",
       "      <th>engineSize</th>\n",
       "      <th>brand</th>\n",
       "    </tr>\n",
       "  </thead>\n",
       "  <tbody>\n",
       "    <tr>\n",
       "      <th>1</th>\n",
       "      <td>16</td>\n",
       "      <td>2016</td>\n",
       "      <td>16500</td>\n",
       "      <td>0</td>\n",
       "      <td>36203</td>\n",
       "      <td>0</td>\n",
       "      <td>20</td>\n",
       "      <td>64.2</td>\n",
       "      <td>2.0</td>\n",
       "      <td>0</td>\n",
       "    </tr>\n",
       "    <tr>\n",
       "      <th>2</th>\n",
       "      <td>12</td>\n",
       "      <td>2016</td>\n",
       "      <td>11000</td>\n",
       "      <td>1</td>\n",
       "      <td>29946</td>\n",
       "      <td>4</td>\n",
       "      <td>30</td>\n",
       "      <td>55.4</td>\n",
       "      <td>1.4</td>\n",
       "      <td>0</td>\n",
       "    </tr>\n",
       "    <tr>\n",
       "      <th>3</th>\n",
       "      <td>14</td>\n",
       "      <td>2017</td>\n",
       "      <td>16800</td>\n",
       "      <td>0</td>\n",
       "      <td>25952</td>\n",
       "      <td>0</td>\n",
       "      <td>145</td>\n",
       "      <td>67.3</td>\n",
       "      <td>2.0</td>\n",
       "      <td>0</td>\n",
       "    </tr>\n",
       "    <tr>\n",
       "      <th>4</th>\n",
       "      <td>13</td>\n",
       "      <td>2019</td>\n",
       "      <td>17300</td>\n",
       "      <td>1</td>\n",
       "      <td>1998</td>\n",
       "      <td>4</td>\n",
       "      <td>145</td>\n",
       "      <td>49.6</td>\n",
       "      <td>1.0</td>\n",
       "      <td>0</td>\n",
       "    </tr>\n",
       "    <tr>\n",
       "      <th>6</th>\n",
       "      <td>16</td>\n",
       "      <td>2016</td>\n",
       "      <td>13250</td>\n",
       "      <td>0</td>\n",
       "      <td>76788</td>\n",
       "      <td>0</td>\n",
       "      <td>30</td>\n",
       "      <td>61.4</td>\n",
       "      <td>2.0</td>\n",
       "      <td>0</td>\n",
       "    </tr>\n",
       "  </tbody>\n",
       "</table>\n",
       "</div>"
      ],
      "text/plain": [
       "   model  year  price  transmission  mileage  fuelType  tax   mpg  engineSize  \\\n",
       "1     16  2016  16500             0    36203         0   20  64.2         2.0   \n",
       "2     12  2016  11000             1    29946         4   30  55.4         1.4   \n",
       "3     14  2017  16800             0    25952         0  145  67.3         2.0   \n",
       "4     13  2019  17300             1     1998         4  145  49.6         1.0   \n",
       "6     16  2016  13250             0    76788         0   30  61.4         2.0   \n",
       "\n",
       "   brand  \n",
       "1      0  \n",
       "2      0  \n",
       "3      0  \n",
       "4      0  \n",
       "6      0  "
      ]
     },
     "execution_count": 70,
     "metadata": {},
     "output_type": "execute_result"
    }
   ],
   "source": [
    "df2.head()"
   ]
  },
  {
   "cell_type": "markdown",
   "metadata": {},
   "source": [
    "### Analisando correlação das features"
   ]
  },
  {
   "cell_type": "code",
   "execution_count": 71,
   "metadata": {},
   "outputs": [],
   "source": [
    "correlation = df.corr()"
   ]
  },
  {
   "cell_type": "code",
   "execution_count": 72,
   "metadata": {
    "scrolled": true
   },
   "outputs": [
    {
     "data": {
      "image/png": "[encoded data removed]",
      "text/plain": [
       "<Figure size 432x288 with 2 Axes>"
      ]
     },
     "metadata": {
      "needs_background": "light"
     },
     "output_type": "display_data"
    }
   ],
   "source": [
    "# plot da matriz de correlação\n",
    "\n",
    "plot = sns.heatmap(correlation, annot = True, fmt=\".1f\", linewidths=.6);\n",
    "plot;"
   ]
  },
  {
   "cell_type": "markdown",
   "metadata": {},
   "source": [
    "Podemos observar que as features que têm FORTE correlação sao year e mileage (-0.7), price e engineSize (0.7)."
   ]
  },
  {
   "cell_type": "markdown",
   "metadata": {},
   "source": [
    "### Teste de Normalidade"
   ]
  },
  {
   "cell_type": "code",
   "execution_count": 73,
   "metadata": {
    "scrolled": true
   },
   "outputs": [
    {
     "data": {
      "text/html": [
       "<div>\n",
       "<style scoped>\n",
       "    .dataframe tbody tr th:only-of-type {\n",
       "        vertical-align: middle;\n",
       "    }\n",
       "\n",
       "    .dataframe tbody tr th {\n",
       "        vertical-align: top;\n",
       "    }\n",
       "\n",
       "    .dataframe thead th {\n",
       "        text-align: right;\n",
       "    }\n",
       "</style>\n",
       "<table border=\"1\" class=\"dataframe\">\n",
       "  <thead>\n",
       "    <tr style=\"text-align: right;\">\n",
       "      <th></th>\n",
       "      <th>price</th>\n",
       "    </tr>\n",
       "  </thead>\n",
       "  <tbody>\n",
       "    <tr>\n",
       "      <th>1</th>\n",
       "      <td>16500</td>\n",
       "    </tr>\n",
       "    <tr>\n",
       "      <th>2</th>\n",
       "      <td>11000</td>\n",
       "    </tr>\n",
       "    <tr>\n",
       "      <th>3</th>\n",
       "      <td>16800</td>\n",
       "    </tr>\n",
       "  </tbody>\n",
       "</table>\n",
       "</div>"
      ],
      "text/plain": [
       "   price\n",
       "1  16500\n",
       "2  11000\n",
       "3  16800"
      ]
     },
     "execution_count": 73,
     "metadata": {},
     "output_type": "execute_result"
    }
   ],
   "source": [
    "# Dataframe somente com os dados da coluna 'price'\n",
    "df3 = df2.copy()\n",
    "\n",
    "price = df3['price']\n",
    "\n",
    "df4 = pd.DataFrame(data=price)\n",
    "df4.head(3)"
   ]
  },
  {
   "cell_type": "code",
   "execution_count": 74,
   "metadata": {},
   "outputs": [],
   "source": [
    "# Renomeando coluna 'price' para '0'\n",
    "df4.rename(columns = {'price': 0}, inplace = True)"
   ]
  },
  {
   "cell_type": "code",
   "execution_count": 75,
   "metadata": {},
   "outputs": [
    {
     "data": {
      "text/html": [
       "<div>\n",
       "<style scoped>\n",
       "    .dataframe tbody tr th:only-of-type {\n",
       "        vertical-align: middle;\n",
       "    }\n",
       "\n",
       "    .dataframe tbody tr th {\n",
       "        vertical-align: top;\n",
       "    }\n",
       "\n",
       "    .dataframe thead th {\n",
       "        text-align: right;\n",
       "    }\n",
       "</style>\n",
       "<table border=\"1\" class=\"dataframe\">\n",
       "  <thead>\n",
       "    <tr style=\"text-align: right;\">\n",
       "      <th></th>\n",
       "      <th>0</th>\n",
       "    </tr>\n",
       "  </thead>\n",
       "  <tbody>\n",
       "    <tr>\n",
       "      <th>1</th>\n",
       "      <td>16500</td>\n",
       "    </tr>\n",
       "    <tr>\n",
       "      <th>2</th>\n",
       "      <td>11000</td>\n",
       "    </tr>\n",
       "    <tr>\n",
       "      <th>3</th>\n",
       "      <td>16800</td>\n",
       "    </tr>\n",
       "  </tbody>\n",
       "</table>\n",
       "</div>"
      ],
      "text/plain": [
       "       0\n",
       "1  16500\n",
       "2  11000\n",
       "3  16800"
      ]
     },
     "execution_count": 75,
     "metadata": {},
     "output_type": "execute_result"
    }
   ],
   "source": [
    "df4.head(3)"
   ]
  },
  {
   "cell_type": "code",
   "execution_count": 76,
   "metadata": {},
   "outputs": [],
   "source": [
    "# Função automatizada que checa normalidade dos dados\n",
    "\n",
    "def check_normality(Data_df):\n",
    "    \n",
    "    # Generating absolute frequency\n",
    "    table_df = Data_df.groupby([0]).size().reset_index(name='Fabs')\n",
    "    \n",
    "    # Generating cumulative frequency\n",
    "    table_df['Fac'] = table_df['Fabs'].cumsum()\n",
    "    \n",
    "    # Computing fractionary column: cumulative frequency by element over total cumulative frequency\n",
    "    table_df['Frac'] = table_df['Fac']/table_df['Fac'].max()\n",
    "    \n",
    "    # Computing z-score\n",
    "    mean = Data_df.mean()\n",
    "    std = Data_df.std()\n",
    "    table_df['Zi'] = table_df.iloc[:, 0].apply(lambda x: (x - mean)/std)\n",
    "    \n",
    "    import scipy.special as scsp\n",
    "    def zScoreToPvalue(z):\n",
    "        # Retornar p-value a partir do z-score\n",
    "        return 0.5 * (1 + scsp.erf(z / np.sqrt(2)))\n",
    "    \n",
    "    # Computing expected value according to p-value\n",
    "    table_df['FracEsp'] = table_df['Zi'].apply(lambda x: zScoreToPvalue(x))\n",
    "    \n",
    "    # Computing D-negative and D-positive\n",
    "    table_df['D_neg'] = abs(table_df['FracEsp']-table_df['Frac'])\n",
    "    \n",
    "    table_df['D_pos'] = 0\n",
    "    for i in range(table_df['Frac'].shape[0]):\n",
    "        if i > 0:\n",
    "            table_df.iloc[i, table_df.columns.get_loc(\"D_pos\")] = table_df['FracEsp'].iloc[i] - table_df['Frac'].iloc[i-1]\n",
    "        else:\n",
    "            table_df.iloc[i, table_df.columns.get_loc(\"D_pos\")] = table_df['FracEsp'].iloc[i]\n",
    "    \n",
    "    # Retrieving the maximum D\n",
    "    D = ( table_df[['D_neg','D_pos']].max() ).max()\n",
    "    \n",
    "    from scipy.stats import ksone\n",
    "    def ks_critical_value(n_trials, alpha):\n",
    "        return ksone.ppf(1-alpha/2, n_trials)\n",
    "    \n",
    "    # Retrieving p-value\n",
    "    p_value = ks_critical_value(Data_df.shape[0], 0.05)\n",
    "    \n",
    "    # Computing result\n",
    "    print(table_df)\n",
    "    print(\"\\n\")\n",
    "    if D < p_value:\n",
    "        print('Os dados seguem uma distribuição normal.')\n",
    "    else:\n",
    "        print('Os dados não seguem uma distribuição normal.')"
   ]
  },
  {
   "cell_type": "code",
   "execution_count": 77,
   "metadata": {},
   "outputs": [
    {
     "name": "stdout",
     "output_type": "stream",
     "text": [
      "            0  Fabs    Fac      Frac         Zi   FracEsp     D_neg     D_pos\n",
      "0        1649     1      1  0.000011  -1.561410  0.059214  0.059203  0.059214\n",
      "1        1999     1      2  0.000022  -1.525646  0.063549  0.063527  0.063538\n",
      "2        2200     1      3  0.000033  -1.505107  0.066148  0.066116  0.066127\n",
      "3        2295     1      4  0.000043  -1.495399  0.067405  0.067362  0.067373\n",
      "4        2395     2      6  0.000065  -1.485181  0.068748  0.068683  0.068705\n",
      "...       ...   ...    ...       ...        ...       ...       ...       ...\n",
      "12658  137995     1  92040  0.999957  12.371022  1.000000  0.000043  0.000054\n",
      "12659  138439     1  92041  0.999967  12.416392  1.000000  0.000033  0.000043\n",
      "12660  139559     1  92042  0.999978  12.530838  1.000000  0.000022  0.000033\n",
      "12661  139948     1  92043  0.999989  12.570588  1.000000  0.000011  0.000022\n",
      "12662  139995     1  92044  1.000000  12.575390  1.000000  0.000000  0.000011\n",
      "\n",
      "[12663 rows x 8 columns]\n",
      "\n",
      "\n",
      "Os dados não seguem uma distribuição normal.\n"
     ]
    }
   ],
   "source": [
    "check_normality(df4)"
   ]
  },
  {
   "cell_type": "markdown",
   "metadata": {},
   "source": [
    "### Best Fit - Encontrando a Distribuição mais Aproximada"
   ]
  },
  {
   "cell_type": "code",
   "execution_count": 78,
   "metadata": {},
   "outputs": [],
   "source": [
    "dist_names = ['beta',\n",
    "              'expon',\n",
    "              'gamma',\n",
    "              'lognorm',\n",
    "              'norm',\n",
    "              'pearson3',\n",
    "              't',\n",
    "              'triang',\n",
    "              'uniform',\n",
    "              'weibull_min', \n",
    "              'weibull_max']"
   ]
  },
  {
   "cell_type": "code",
   "execution_count": 79,
   "metadata": {},
   "outputs": [],
   "source": [
    "def check_distribution(dist_names, y_std):\n",
    "    \n",
    "    p_values = []\n",
    "    distance = []\n",
    "    D_less_p = []\n",
    "    \n",
    "    for distribution in dist_names:\n",
    "        # Set up distribution and get fitted distribution parameters\n",
    "        dist = getattr(scipy.stats, distribution)\n",
    "        param = dist.fit(y_std)\n",
    "\n",
    "        if distribution != \"norm\":\n",
    "            D, p = scipy.stats.kstest(y_std, distribution, args=param)\n",
    "        else:\n",
    "            D, p = scipy.stats.kstest(y_std, distribution,  alternative='greater')\n",
    "            \n",
    "        #p = np.around(p, 5)\n",
    "        p_values.append(p)    \n",
    "        \n",
    "        #D = np.around(D, 5)\n",
    "        distance.append(D)    \n",
    "        \n",
    "        if D<p: \n",
    "            D_less_p.append(\"yes\") \n",
    "        else: \n",
    "            D_less_p.append(\"no\")\n",
    "\n",
    "    results = pd.DataFrame()\n",
    "    results['Distribution'] = dist_names\n",
    "    results['Distance'] = distance\n",
    "    results['p_value'] = p_values\n",
    "    results['D<p'] = D_less_p\n",
    "    \n",
    "    results.sort_values(['p_value'], ascending=False, inplace=True)\n",
    "\n",
    "\n",
    "    print ('\\nDistributions sorted by goodness of fit:')\n",
    "    print ('----------------------------------------')\n",
    "    print (results)"
   ]
  },
  {
   "cell_type": "markdown",
   "metadata": {},
   "source": [
    "### Coluna 'model'"
   ]
  },
  {
   "cell_type": "code",
   "execution_count": null,
   "metadata": {},
   "outputs": [],
   "source": [
    "df3.head(3)"
   ]
  },
  {
   "cell_type": "code",
   "execution_count": null,
   "metadata": {},
   "outputs": [],
   "source": [
    "sns.set(rc={'figure.figsize':(11.7,8.27)})\n",
    "sns.distplot(df3['model'], bins=30) # Dis - média ponderada das distâncias a cinco centros de empregos de Boston.\n",
    "plt.show()"
   ]
  },
  {
   "cell_type": "code",
   "execution_count": null,
   "metadata": {},
   "outputs": [],
   "source": [
    "y2_std2 = scipy.stats.zscore(df3['model'])\n",
    "y2_std2 = y2_std2.values.flatten()\n",
    "y2_std2"
   ]
  },
  {
   "cell_type": "code",
   "execution_count": null,
   "metadata": {},
   "outputs": [],
   "source": [
    "check_distribution(dist_names, y2_std2);"
   ]
  },
  {
   "cell_type": "markdown",
   "metadata": {},
   "source": [
    "### Coluna 'brand'"
   ]
  },
  {
   "cell_type": "code",
   "execution_count": null,
   "metadata": {},
   "outputs": [],
   "source": [
    "sns.set(rc={'figure.figsize':(11.7,8.27)})\n",
    "sns.distplot(df3['brand'], bins=30) # Dis - média ponderada das distâncias a cinco centros de empregos de Boston.\n",
    "plt.show()"
   ]
  },
  {
   "cell_type": "code",
   "execution_count": null,
   "metadata": {},
   "outputs": [],
   "source": [
    "y2_std3 = scipy.stats.zscore(df3['model'])\n",
    "y2_std3 = y2_std3.values.flatten()\n",
    "y2_std3"
   ]
  },
  {
   "cell_type": "code",
   "execution_count": null,
   "metadata": {
    "scrolled": true
   },
   "outputs": [],
   "source": [
    "check_distribution(dist_names, y2_std3);"
   ]
  },
  {
   "cell_type": "markdown",
   "metadata": {},
   "source": [
    "### Aplicando a opção escalar padrão para padronizar as variáveis numéricas no conjunto de dados"
   ]
  },
  {
   "cell_type": "code",
   "execution_count": null,
   "metadata": {},
   "outputs": [],
   "source": [
    "X2 = df2.iloc[:, [0,1,3,4,5,6,7,8,9]]\n",
    "y2 = df2.iloc[:, [2]]"
   ]
  },
  {
   "cell_type": "code",
   "execution_count": null,
   "metadata": {},
   "outputs": [],
   "source": [
    "# Separando os dados em 70% para treino e 30% para teste\n",
    "X_train, X_test, y_train, y_test = train_test_split(X2, y2, test_size=0.30, random_state=42)"
   ]
  },
  {
   "cell_type": "markdown",
   "metadata": {},
   "source": [
    "Vamos padronizar os atributos para que eles fiquem na mesma faixa de valores."
   ]
  },
  {
   "cell_type": "code",
   "execution_count": null,
   "metadata": {},
   "outputs": [],
   "source": [
    "# Padronizando X_train\n",
    "scaler = StandardScaler()\n",
    "scaler.fit(X_train)\n",
    "X_train_pad = scaler.transform(X_train)\n",
    "X_train_pad"
   ]
  },
  {
   "cell_type": "markdown",
   "metadata": {},
   "source": [
    "## 4 - Aplicação de modelos"
   ]
  },
  {
   "cell_type": "markdown",
   "metadata": {},
   "source": [
    "### Modelo de DecisionTreeRegressor"
   ]
  },
  {
   "cell_type": "markdown",
   "metadata": {},
   "source": [
    "#### Usando o gridSearch para escolher os melhores parâmetros para o modelo de Árvore de Decisão"
   ]
  },
  {
   "cell_type": "code",
   "execution_count": null,
   "metadata": {
    "scrolled": true
   },
   "outputs": [],
   "source": [
    "from sklearn.model_selection import GridSearchCV\n",
    "\n",
    "# Criando um parâmetro grid\n",
    "parameters = {'min_samples_leaf':[3, 4, 5, 6, 7], \n",
    "              'min_samples_split':[5, 6, 7, 8, 9], \n",
    "              'max_depth':[4, 5, 6, 7, 8]}\n",
    "\n",
    "dtr = tree.DecisionTreeRegressor()\n",
    "\n",
    "clf = GridSearchCV(estimator=dtr, param_grid=parameters)\n",
    "clf.fit(X_train_pad, y_train)"
   ]
  },
  {
   "cell_type": "code",
   "execution_count": null,
   "metadata": {},
   "outputs": [],
   "source": [
    "# Melhores valores para os parâmetros do modelo de DecisionTreeRegressor\n",
    "clf.best_params_"
   ]
  },
  {
   "cell_type": "code",
   "execution_count": null,
   "metadata": {},
   "outputs": [],
   "source": [
    "# Criando um modelo\n",
    "dtr = tree.DecisionTreeRegressor(min_samples_leaf=6, min_samples_split=8, max_depth=8)"
   ]
  },
  {
   "cell_type": "code",
   "execution_count": null,
   "metadata": {},
   "outputs": [],
   "source": [
    "dtr.fit(X_train_pad, y_train);"
   ]
  },
  {
   "cell_type": "code",
   "execution_count": null,
   "metadata": {},
   "outputs": [],
   "source": [
    "y_pred_dt = dtr.predict(X_test)"
   ]
  },
  {
   "cell_type": "code",
   "execution_count": null,
   "metadata": {},
   "outputs": [],
   "source": [
    "# Avaliar modelo com as seguintes métricas"
   ]
  },
  {
   "cell_type": "code",
   "execution_count": null,
   "metadata": {},
   "outputs": [],
   "source": [
    "# Mean Absolute Error\n",
    "mae_dtr = mean_absolute_error(y_test, y_pred_dt)\n",
    "mae_dtr"
   ]
  },
  {
   "cell_type": "code",
   "execution_count": null,
   "metadata": {},
   "outputs": [],
   "source": [
    "# Mean Squared Error \n",
    "mse_dtr = mean_squared_error(y_test, y_pred_dt)\n",
    "mse_dtr"
   ]
  },
  {
   "cell_type": "code",
   "execution_count": null,
   "metadata": {},
   "outputs": [],
   "source": [
    "# Root Mean Squared Error\n",
    "rmse_dtr = mean_squared_error(y_test, y_pred_dt, squared=False)\n",
    "rmse_dtr"
   ]
  },
  {
   "cell_type": "markdown",
   "metadata": {},
   "source": [
    "### Modelo de Random Forest Regressor"
   ]
  },
  {
   "cell_type": "code",
   "execution_count": null,
   "metadata": {},
   "outputs": [],
   "source": [
    "from sklearn.ensemble import RandomForestRegressor"
   ]
  },
  {
   "cell_type": "code",
   "execution_count": null,
   "metadata": {},
   "outputs": [],
   "source": [
    "rfr = RandomForestRegressor()\n",
    "\n",
    "# Criando um parâmetro grid\n",
    "parameters = {'min_samples_leaf':[5, 6, 7], \n",
    "              'min_samples_split':[7, 8, 9], \n",
    "              'max_depth':[6, 7, 8]}\n",
    "\n",
    "clf_rfr = GridSearchCV(estimator=rfr, param_grid=parameters)\n",
    "clf_rfr.fit(X_train_pad, y_train)"
   ]
  },
  {
   "cell_type": "code",
   "execution_count": null,
   "metadata": {},
   "outputs": [],
   "source": [
    "# Melhores valores para os parâmetros do modelo de RandomForestRegressor\n",
    "clf.best_params_"
   ]
  },
  {
   "cell_type": "code",
   "execution_count": null,
   "metadata": {},
   "outputs": [],
   "source": [
    "#Instanciar Random Forest Regressor\n",
    "rfr = RandomForestRegressor(min_samples_leaf=6, min_samples_split=8, max_depth=8, random_state=42) # n_estimators=40 (número de árvores)\n",
    "\n",
    "# Treinar o modelo\n",
    "rfr_model = rfr.fit(X_train_pad, y_train);"
   ]
  },
  {
   "cell_type": "code",
   "execution_count": null,
   "metadata": {},
   "outputs": [],
   "source": [
    "# Obter valores preditos\n",
    "y_pred_rfr = rfr_model.predict(X_test)"
   ]
  },
  {
   "cell_type": "code",
   "execution_count": null,
   "metadata": {},
   "outputs": [],
   "source": [
    "# Avaliar modelo com as seguintes métricas"
   ]
  },
  {
   "cell_type": "code",
   "execution_count": null,
   "metadata": {},
   "outputs": [],
   "source": [
    "mae_rfr = mean_absolute_error(y_test, y_pred_rfr)\n",
    "mae_rfr"
   ]
  },
  {
   "cell_type": "code",
   "execution_count": null,
   "metadata": {},
   "outputs": [],
   "source": [
    "mse_rfr = mean_squared_error(y_test, y_pred_rfr)\n",
    "mse_rfr"
   ]
  },
  {
   "cell_type": "code",
   "execution_count": null,
   "metadata": {},
   "outputs": [],
   "source": [
    "rmse_rfr = mean_squared_error(y_test, y_pred_rfr, squared=False)\n",
    "rmse_rfr"
   ]
  },
  {
   "cell_type": "markdown",
   "metadata": {},
   "source": [
    "#### Aplicando o features_importances_ para saber quais são as features mais importes"
   ]
  },
  {
   "cell_type": "code",
   "execution_count": null,
   "metadata": {},
   "outputs": [],
   "source": [
    "print(df.columns)"
   ]
  },
  {
   "cell_type": "code",
   "execution_count": null,
   "metadata": {},
   "outputs": [],
   "source": [
    "feature_names = ['model', 'year', 'transmission', 'mileage', 'fuelType', 'tax', 'mpg', 'engineSize', 'brand']\n",
    "\n",
    "importances = rfr.feature_importances_\n",
    "\n",
    "std = np.std([tree.feature_importances_ for tree in rfr.estimators_], axis=0)"
   ]
  },
  {
   "cell_type": "code",
   "execution_count": null,
   "metadata": {
    "scrolled": true
   },
   "outputs": [],
   "source": [
    "forest_importances = pd.Series(importances, index=feature_names)\n",
    "\n",
    "fig, ax = plt.subplots()\n",
    "forest_importances.plot.bar(yerr=std, ax=ax)\n",
    "ax.set_title(\"Feature importances\")\n",
    "ax.set_ylabel(\"Nível de importância\")\n",
    "fig.tight_layout()"
   ]
  },
  {
   "cell_type": "markdown",
   "metadata": {},
   "source": [
    "#### Treinar o modelo com as 4 features que se destacaram (model, year, mileage, engineSize) "
   ]
  },
  {
   "cell_type": "code",
   "execution_count": null,
   "metadata": {},
   "outputs": [],
   "source": [
    "df2.head()"
   ]
  },
  {
   "cell_type": "code",
   "execution_count": null,
   "metadata": {},
   "outputs": [],
   "source": [
    "X3 = df2.iloc[:, [0,1,4,8]]\n",
    "X3.shape"
   ]
  },
  {
   "cell_type": "code",
   "execution_count": null,
   "metadata": {},
   "outputs": [],
   "source": [
    "# Separando os dados em 70% para treino e 30% para teste\n",
    "X_train2, X_test2, y_train2, y_test2 = train_test_split(X3, y2, test_size=0.30)"
   ]
  },
  {
   "cell_type": "code",
   "execution_count": null,
   "metadata": {},
   "outputs": [],
   "source": [
    "# Padroniza X_train\n",
    "scaler = StandardScaler()\n",
    "scaler.fit(X_train2)\n",
    "X_train_pad = scaler.transform(X_train2)\n",
    "X_train_pad"
   ]
  },
  {
   "cell_type": "code",
   "execution_count": null,
   "metadata": {},
   "outputs": [],
   "source": [
    "# Instanciar Random Forest Regressor\n",
    "rfr2 = RandomForestRegressor(min_samples_leaf=6, min_samples_split=8, max_depth=8, random_state=42)\n",
    "\n",
    "# Treinar o modelo\n",
    "rfr_model = rfr.fit(X_train_pad, y_train2);"
   ]
  },
  {
   "cell_type": "code",
   "execution_count": null,
   "metadata": {},
   "outputs": [],
   "source": [
    "# Obter valores preditos\n",
    "y_pred_rfr2 = rfr_model.predict(X_test2)"
   ]
  },
  {
   "cell_type": "code",
   "execution_count": null,
   "metadata": {},
   "outputs": [],
   "source": [
    "# Avaliar modelo com as seguintes métricas"
   ]
  },
  {
   "cell_type": "code",
   "execution_count": null,
   "metadata": {},
   "outputs": [],
   "source": [
    "mae_rfr2 = mean_absolute_error(y_test2, y_pred_rfr2)\n",
    "mae_rfr2"
   ]
  },
  {
   "cell_type": "code",
   "execution_count": null,
   "metadata": {},
   "outputs": [],
   "source": [
    "mse_rfr2 = mean_squared_error(y_test2, y_pred_rfr2)\n",
    "mse_rfr2"
   ]
  },
  {
   "cell_type": "code",
   "execution_count": null,
   "metadata": {},
   "outputs": [],
   "source": [
    "rmse_rfr2 = mean_squared_error(y_test2, y_pred_rfr2, squared=False)\n",
    "rmse_rfr2"
   ]
  },
  {
   "cell_type": "markdown",
   "metadata": {},
   "source": [
    "### Modelo de Gradient Boosting Regressor"
   ]
  },
  {
   "cell_type": "code",
   "execution_count": null,
   "metadata": {},
   "outputs": [],
   "source": [
    "from sklearn.ensemble import GradientBoostingRegressor"
   ]
  },
  {
   "cell_type": "code",
   "execution_count": null,
   "metadata": {},
   "outputs": [],
   "source": [
    "gbr = GradientBoostingRegressor(random_state=42)\n",
    "\n",
    "clf_gbr = GridSearchCV(estimator=gbr, param_grid=parameters)\n",
    "clf_gbr.fit(X_train_pad, y_train)"
   ]
  },
  {
   "cell_type": "code",
   "execution_count": null,
   "metadata": {},
   "outputs": [],
   "source": [
    "# Melhores valores para os parâmetros do modelo de GradientBoostingRegressor\n",
    "clf_gbr.best_params_"
   ]
  },
  {
   "cell_type": "code",
   "execution_count": null,
   "metadata": {},
   "outputs": [],
   "source": [
    "#Instanciar Gradient Boosting Regressor\n",
    "gbr = GradientBoostingRegressor(min_samples_leaf=5, min_samples_split=7, max_depth=8, random_state=42) \n",
    "\n",
    "# Treinar o modelo\n",
    "gbr_model = gbr.fit(X_train_pad, y_train);"
   ]
  },
  {
   "cell_type": "code",
   "execution_count": null,
   "metadata": {},
   "outputs": [],
   "source": [
    "#Obter valores preditos\n",
    "\n",
    "y_pred_gbr = gbr_model.predict(X_test)"
   ]
  },
  {
   "cell_type": "code",
   "execution_count": null,
   "metadata": {},
   "outputs": [],
   "source": [
    "# Avaliar modelo com as seguintes métricas"
   ]
  },
  {
   "cell_type": "code",
   "execution_count": null,
   "metadata": {},
   "outputs": [],
   "source": [
    "mae_gbr = mean_absolute_error(y_test, y_pred_gbr)\n",
    "mae_gbr"
   ]
  },
  {
   "cell_type": "code",
   "execution_count": null,
   "metadata": {},
   "outputs": [],
   "source": [
    "mse_gbr = mean_squared_error(y_test, y_pred_gbr)\n",
    "mse_gbr"
   ]
  },
  {
   "cell_type": "code",
   "execution_count": null,
   "metadata": {},
   "outputs": [],
   "source": [
    "rmse_gbr = mean_squared_error(y_test, y_pred_gbr, squared=False)\n",
    "rmse_gbr"
   ]
  },
  {
   "cell_type": "markdown",
   "metadata": {},
   "source": [
    "## 5 - Avaliação dos modelos"
   ]
  },
  {
   "cell_type": "markdown",
   "metadata": {},
   "source": [
    "### Comparação dos resultados dos modelos"
   ]
  },
  {
   "cell_type": "code",
   "execution_count": null,
   "metadata": {
    "scrolled": true
   },
   "outputs": [],
   "source": [
    "print('MAE Decision Tree Regressor: ' + str(mae_dtr))\n",
    "print('MAE Random Forest Regressor: ' + str(mae_rfr))\n",
    "print('MAE Random Forest Regressor Feature Importance: ' + str(mae_rfr2))\n",
    "print('MAE Gradient Boosting Regressor: ' + str(mae_gbr))\n",
    "print(' ')\n",
    "print('MSE Decision Tree Regressor: ' + str(mse_dtr))\n",
    "print('MSE Random Forest Regressor: ' + str(mse_rfr))\n",
    "print('MSE Random Forest Regressor Feature Importance: ' + str(mse_rfr2))\n",
    "print('MSE Gradient Boosting Regressor: ' + str(mse_gbr))\n",
    "print(' ')\n",
    "print('RMSE Decision Tree Regressor: ' + str(rmse_dtr))\n",
    "print('RMSE Random Forest Regressor: ' + str(rmse_rfr))\n",
    "print('RMSE Random Forest Regressor Feature Importance: ' + str(rmse_rfr2))\n",
    "print('RMSE Gradient Boosting Regressor: ' + str(rmse_gbr))"
   ]
  },
  {
   "cell_type": "markdown",
   "metadata": {},
   "source": [
    "## Conclusão"
   ]
  },
  {
   "cell_type": "markdown",
   "metadata": {},
   "source": [
    "Podemos concluir que o melhor modelo avaliado para predizer os preços dos carros foi o modelo que utiliza o algoritmo Gradient Boosting Regressor, pois obteve MAE, MSE e RMSE menores que os outros modelos. \n",
    "\n",
    "Para trabalhos futuros, pretendemos experimentar construir modelos com outros algoritmos a fim de conseguir erros menores para predizer com mais precisão os preços de carros."
   ]
  }
 ],
 "metadata": {
  "kernelspec": {
   "display_name": "Python 3 (ipykernel)",
   "language": "python",
   "name": "python3"
  },
  "language_info": {
   "codemirror_mode": {
    "name": "ipython",
    "version": 3
   },
   "file_extension": ".py",
   "mimetype": "text/x-python",
   "name": "python",
   "nbconvert_exporter": "python",
   "pygments_lexer": "ipython3",
   "version": "3.9.7"
  }
 },
 "nbformat": 4,
 "nbformat_minor": 4
}
