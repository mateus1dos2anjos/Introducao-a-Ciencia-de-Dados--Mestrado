{
 "cells": [
  {
   "cell_type": "code",
   "execution_count": 1,
   "id": "2065126a",
   "metadata": {},
   "outputs": [],
   "source": [
    "# Nome: Francisco Mateus dos Anjos Silva\n",
    "# Matrícula: 521783\n",
    "# Disciplina: Introdução à Ciência de Dados"
   ]
  },
  {
   "cell_type": "markdown",
   "id": "7d63700e",
   "metadata": {},
   "source": [
    "# Extraindo dados da internet (Web Scraping) com scrapy"
   ]
  },
  {
   "cell_type": "markdown",
   "id": "4a040ed2",
   "metadata": {},
   "source": [
    "## Construindo dataset sobre Notícias com dados do G1"
   ]
  },
  {
   "cell_type": "markdown",
   "id": "cc5d022d",
   "metadata": {},
   "source": [
    "###  Etapas:\n",
    "#### 1 - Extrair dados da internet (Web Scraping)\n",
    "#### 2 - Construir dataset com os dados extraídos da internet\n",
    "#### 3 - Análise exploratória dos dados\n",
    "#### 4 - Tratamento / limpeza dos dados\n",
    "#### 5 - Exportar dataframe do pandas para CSV"
   ]
  },
  {
   "cell_type": "code",
   "execution_count": 2,
   "id": "2915996d",
   "metadata": {},
   "outputs": [],
   "source": [
    "# Importando as bibliotecas"
   ]
  },
  {
   "cell_type": "code",
   "execution_count": 3,
   "id": "2ede60cb",
   "metadata": {},
   "outputs": [],
   "source": [
    "import pandas as pd\n",
    "import numpy as np\n",
    "import matplotlib.pyplot as plt\n",
    "import seaborn as sns"
   ]
  },
  {
   "cell_type": "markdown",
   "id": "7e3dee92",
   "metadata": {},
   "source": [
    "## 1 - Extraindo dados da internet (Web Scraping)"
   ]
  },
  {
   "cell_type": "code",
   "execution_count": 4,
   "id": "4f981098",
   "metadata": {},
   "outputs": [],
   "source": [
    "# Vamos extrair dados do site do G1 (notícias): \n",
    "# https://g1.globo.com/"
   ]
  },
  {
   "cell_type": "markdown",
   "id": "3fe5f5b2",
   "metadata": {},
   "source": [
    "### Configurando Ambiente"
   ]
  },
  {
   "cell_type": "code",
   "execution_count": 5,
   "id": "0ed7b02e",
   "metadata": {},
   "outputs": [],
   "source": [
    "from IPython.core.interactiveshell import InteractiveShell\n",
    "InteractiveShell.ast_node_interactivity = \"all\"\n",
    "# Exibir versão do Python\n",
    "import platform\n",
    "platform.python_version()\n",
    "\n",
    "try: # Checando se Scrapy está instalado\n",
    "    import scrapy\n",
    "except:\n",
    "    !pip install scrapy\n",
    "    import scrapy\n",
    "from scrapy.crawler import CrawlerProcess\n",
    "from scrapy.utils.project import get_project_settings"
   ]
  },
  {
   "cell_type": "code",
   "execution_count": 6,
   "id": "41db46ad",
   "metadata": {},
   "outputs": [],
   "source": [
    "import json\n",
    "\n",
    "class JsonWriterPipeline(object):\n",
    "\n",
    "    # Função para gerar/abrir arquivo JSON\n",
    "    def open_spider(self, spider):\n",
    "        self.file = open('g1result.jl', 'w')\n",
    "\n",
    "    # Fechar arquivo após escrita\n",
    "    def close_spider(self, spider):\n",
    "        self.file.close()\n",
    "\n",
    "    # Inserir itens coletados da página WEB no arquivo JSON criado\n",
    "    def process_item(self, item, spider):\n",
    "        line = json.dumps(dict(item)) + \"\\n\"\n",
    "        self.file.write(line)\n",
    "        return item"
   ]
  },
  {
   "cell_type": "code",
   "execution_count": 7,
   "id": "34e9dfac",
   "metadata": {},
   "outputs": [],
   "source": [
    "import logging\n",
    "\n",
    "class G1Spider(scrapy.Spider):\n",
    "    name = \"g1\"\n",
    "    \n",
    "    categories = ['economia/agronegocios/', \n",
    "                  'economia/agronegocios/agro-a-industria-riqueza-do-brasil/',\n",
    "                  'ciencia/',\n",
    "                  'bemestar/viva-voce/',\n",
    "                  'rj/rio-de-janeiro/carnaval/2022/',\n",
    "                  'sp/sao-paulo/carnaval/2022/',\n",
    "                  'economia/',\n",
    "                  'economia/bitcoin/',\n",
    "                  'educacao/',\n",
    "                  'educacao/enem/2021/',\n",
    "                  'empreendedorismo/',\n",
    "                  'empreendedorismo/pegn/',\n",
    "                  'fato-ou-fake/',\n",
    "                  'especiais/guia-de-compras/',\n",
    "                  'inovacao/',\n",
    "                  'loterias/',\n",
    "                  'meio-ambiente/',\n",
    "                  'monitor-da-violencia/',\n",
    "                  'mundo/',\n",
    "                  'mundo/ucrania-russia/',\n",
    "                  'olha-que-legal/',\n",
    "                  'politica/',\n",
    "                  'pop-arte/cinema/',\n",
    "                  'pop-arte/games/',\n",
    "                  'saude/',\n",
    "                  'tecnologia/',\n",
    "                  'trabalho-e-carreira/',\n",
    "                  'turismo-e-viagem/']\n",
    "    \n",
    "    urls = []\n",
    "    for category in categories:\n",
    "        url = 'https://g1.globo.com/' + str(category)\n",
    "        urls.append(url)\n",
    "    \n",
    "    # Lista de Strings (URLs)   \n",
    "    start_urls = urls\n",
    "    \n",
    "    # Configuração obrigatória de pipeline para geração de arquivo de saída\n",
    "    custom_settings = {\n",
    "        'LOG_LEVEL': logging.WARNING,\n",
    "        'ITEM_PIPELINES': {'__main__.JsonWriterPipeline': 1}, \n",
    "        'FEED_FORMAT':'json',                                 \n",
    "        'FEED_URI': 'g1result.json'                        \n",
    "    }\n",
    "    \n",
    "    # Parse da página principal a ser crawleada\n",
    "    def parse(self, response):\n",
    "                            \n",
    "        for news in response.css('.bastian-page .bastian-feed-item'):\n",
    "            \n",
    "            title = news.css('.feed-post-link::text').extract_first()\n",
    "            description = news.css('.feed-post-body-resumo::text').extract_first()\n",
    "            image_url = news.css('.bstn-fd-picture-image::attr(src)').extract_first()\n",
    "            link = news.css('.feed-post-link::attr(href)').extract_first()\n",
    "            categoria = news.css('.feed-post-metadata-section::text').extract_first()\n",
    "            \n",
    "            yield{\n",
    "                'titulo': title,\n",
    "                'descricao': description,\n",
    "                'url_imagem': image_url,\n",
    "                'link': link,\n",
    "                'categoria': categoria\n",
    "            }\n",
    "        "
   ]
  },
  {
   "cell_type": "markdown",
   "id": "9bb32aeb",
   "metadata": {},
   "source": [
    "## 2 - Construindo dataset (gerando arquivo) com os dados extraídos da internet"
   ]
  },
  {
   "cell_type": "code",
   "execution_count": 8,
   "id": "90bb1297",
   "metadata": {},
   "outputs": [
    {
     "name": "stderr",
     "output_type": "stream",
     "text": [
      "2022-05-19 11:10:46 [scrapy.utils.log] INFO: Scrapy 2.6.1 started (bot: scrapybot)\n",
      "2022-05-19 11:10:46 [scrapy.utils.log] INFO: Versions: lxml 4.6.3.0, libxml2 2.9.12, cssselect 1.1.0, parsel 1.6.0, w3lib 1.22.0, Twisted 22.4.0, Python 3.9.7 (default, Sep 16 2021, 13:09:58) - [GCC 7.5.0], pyOpenSSL 21.0.0 (OpenSSL 1.1.1l  24 Aug 2021), cryptography 3.4.8, Platform Linux-5.13.0-41-generic-x86_64-with-glibc2.31\n",
      "2022-05-19 11:10:46 [scrapy.crawler] INFO: Overridden settings:\n",
      "{'LOG_LEVEL': 30}\n",
      "2022-05-19 11:10:46 [py.warnings] WARNING: /home/mateus/anaconda3/envs/env-introducao-ciencia-dados/lib/python3.9/site-packages/scrapy/extensions/feedexport.py:289: ScrapyDeprecationWarning: The `FEED_URI` and `FEED_FORMAT` settings have been deprecated in favor of the `FEEDS` setting. Please see the `FEEDS` setting docs for more details\n",
      "  exporter = cls(crawler)\n",
      "\n"
     ]
    },
    {
     "data": {
      "text/plain": [
       "<Deferred at 0x7f906f919640>"
      ]
     },
     "execution_count": 8,
     "metadata": {},
     "output_type": "execute_result"
    }
   ],
   "source": [
    "process = CrawlerProcess(get_project_settings())\n",
    "\n",
    "# Iniciando processo\n",
    "process.crawl(G1Spider)\n",
    "process.start()"
   ]
  },
  {
   "cell_type": "markdown",
   "id": "2209abd2",
   "metadata": {},
   "source": [
    "### Carregando arquivo criado com os dados extraídos"
   ]
  },
  {
   "cell_type": "code",
   "execution_count": 9,
   "id": "b30af89f",
   "metadata": {},
   "outputs": [
    {
     "data": {
      "text/html": [
       "<div>\n",
       "<style scoped>\n",
       "    .dataframe tbody tr th:only-of-type {\n",
       "        vertical-align: middle;\n",
       "    }\n",
       "\n",
       "    .dataframe tbody tr th {\n",
       "        vertical-align: top;\n",
       "    }\n",
       "\n",
       "    .dataframe thead th {\n",
       "        text-align: right;\n",
       "    }\n",
       "</style>\n",
       "<table border=\"1\" class=\"dataframe\">\n",
       "  <thead>\n",
       "    <tr style=\"text-align: right;\">\n",
       "      <th></th>\n",
       "      <th>titulo</th>\n",
       "      <th>descricao</th>\n",
       "      <th>url_imagem</th>\n",
       "      <th>link</th>\n",
       "      <th>categoria</th>\n",
       "    </tr>\n",
       "  </thead>\n",
       "  <tbody>\n",
       "    <tr>\n",
       "      <th>0</th>\n",
       "      <td>Ibovespa passa a subir ajudada por ações da El...</td>\n",
       "      <td>Na quarta-feira, o principal índice de ações d...</td>\n",
       "      <td>https://s2.glbimg.com/NyAWUEYBa2bzlCJq3FgrS_9m...</td>\n",
       "      <td>https://g1.globo.com/economia/noticia/2022/05/...</td>\n",
       "      <td>Economia</td>\n",
       "    </tr>\n",
       "    <tr>\n",
       "      <th>1</th>\n",
       "      <td>Agricultor tem opção de picape em que pode con...</td>\n",
       "      <td>A Nova Nissan Frontier possui força e estilo p...</td>\n",
       "      <td>https://s2.glbimg.com/iOJ6--Ov9NfepV8queDkwTio...</td>\n",
       "      <td>https://g1.globo.com/economia/agronegocios/agr...</td>\n",
       "      <td>NISSAN</td>\n",
       "    </tr>\n",
       "    <tr>\n",
       "      <th>2</th>\n",
       "      <td>Dólar retoma trajetória de queda nesta quinta</td>\n",
       "      <td>Na quarta-feira, a moeda norte-americana subiu...</td>\n",
       "      <td>None</td>\n",
       "      <td>https://g1.globo.com/economia/noticia/2022/05/...</td>\n",
       "      <td>Economia</td>\n",
       "    </tr>\n",
       "    <tr>\n",
       "      <th>3</th>\n",
       "      <td>Justiça libera saque de FGTS a família com dep...</td>\n",
       "      <td>Tribunal autorizou uso de FGTS para doença não...</td>\n",
       "      <td>https://s2.glbimg.com/4Ce3Jq73qtrpF9wMIdjji1QG...</td>\n",
       "      <td>https://g1.globo.com/economia/noticia/2022/05/...</td>\n",
       "      <td>Economia</td>\n",
       "    </tr>\n",
       "    <tr>\n",
       "      <th>4</th>\n",
       "      <td>Dinheiro na poupança 'encolhe' há 20 meses seg...</td>\n",
       "      <td>Em abril, rentabilidade no acumulado em 12 mes...</td>\n",
       "      <td>https://s2.glbimg.com/TJHYXXEv4P3W7l_FOUTHtkLk...</td>\n",
       "      <td>https://g1.globo.com/economia/noticia/2022/05/...</td>\n",
       "      <td>Economia</td>\n",
       "    </tr>\n",
       "  </tbody>\n",
       "</table>\n",
       "</div>"
      ],
      "text/plain": [
       "                                              titulo  \\\n",
       "0  Ibovespa passa a subir ajudada por ações da El...   \n",
       "1  Agricultor tem opção de picape em que pode con...   \n",
       "2      Dólar retoma trajetória de queda nesta quinta   \n",
       "3  Justiça libera saque de FGTS a família com dep...   \n",
       "4  Dinheiro na poupança 'encolhe' há 20 meses seg...   \n",
       "\n",
       "                                           descricao  \\\n",
       "0  Na quarta-feira, o principal índice de ações d...   \n",
       "1  A Nova Nissan Frontier possui força e estilo p...   \n",
       "2  Na quarta-feira, a moeda norte-americana subiu...   \n",
       "3  Tribunal autorizou uso de FGTS para doença não...   \n",
       "4  Em abril, rentabilidade no acumulado em 12 mes...   \n",
       "\n",
       "                                          url_imagem  \\\n",
       "0  https://s2.glbimg.com/NyAWUEYBa2bzlCJq3FgrS_9m...   \n",
       "1  https://s2.glbimg.com/iOJ6--Ov9NfepV8queDkwTio...   \n",
       "2                                               None   \n",
       "3  https://s2.glbimg.com/4Ce3Jq73qtrpF9wMIdjji1QG...   \n",
       "4  https://s2.glbimg.com/TJHYXXEv4P3W7l_FOUTHtkLk...   \n",
       "\n",
       "                                                link   categoria  \n",
       "0  https://g1.globo.com/economia/noticia/2022/05/...   Economia   \n",
       "1  https://g1.globo.com/economia/agronegocios/agr...     NISSAN   \n",
       "2  https://g1.globo.com/economia/noticia/2022/05/...   Economia   \n",
       "3  https://g1.globo.com/economia/noticia/2022/05/...   Economia   \n",
       "4  https://g1.globo.com/economia/noticia/2022/05/...   Economia   "
      ]
     },
     "execution_count": 9,
     "metadata": {},
     "output_type": "execute_result"
    }
   ],
   "source": [
    "import pandas as pd\n",
    "# Carregando JSON criado para visualizar saída\n",
    "df = pd.read_json('g1result.jl', lines=True)\n",
    "df.head()"
   ]
  },
  {
   "cell_type": "markdown",
   "id": "eb74544d",
   "metadata": {},
   "source": [
    "## 3 - Análise exploratória dos dados"
   ]
  },
  {
   "cell_type": "code",
   "execution_count": 10,
   "id": "a5e0739b",
   "metadata": {},
   "outputs": [
    {
     "name": "stdout",
     "output_type": "stream",
     "text": [
      "Número de instâncias: 258\n",
      "Número de atributos: 5\n"
     ]
    }
   ],
   "source": [
    "print(\"Número de instâncias: \" + str(df.shape[0]))\n",
    "print(\"Número de atributos: \" + str(df.shape[1]))"
   ]
  },
  {
   "cell_type": "code",
   "execution_count": 11,
   "id": "9b090279",
   "metadata": {},
   "outputs": [
    {
     "name": "stdout",
     "output_type": "stream",
     "text": [
      "<class 'pandas.core.frame.DataFrame'>\n",
      "RangeIndex: 258 entries, 0 to 257\n",
      "Data columns (total 5 columns):\n",
      " #   Column      Non-Null Count  Dtype \n",
      "---  ------      --------------  ----- \n",
      " 0   titulo      258 non-null    object\n",
      " 1   descricao   248 non-null    object\n",
      " 2   url_imagem  245 non-null    object\n",
      " 3   link        256 non-null    object\n",
      " 4   categoria   256 non-null    object\n",
      "dtypes: object(5)\n",
      "memory usage: 10.2+ KB\n"
     ]
    }
   ],
   "source": [
    "df.info()"
   ]
  },
  {
   "cell_type": "code",
   "execution_count": 12,
   "id": "37a913be",
   "metadata": {},
   "outputs": [
    {
     "data": {
      "text/plain": [
       "titulo         0\n",
       "descricao     10\n",
       "url_imagem    13\n",
       "link           2\n",
       "categoria      2\n",
       "dtype: int64"
      ]
     },
     "execution_count": 12,
     "metadata": {},
     "output_type": "execute_result"
    }
   ],
   "source": [
    "# Quantidade de valores nulos por atributo\n",
    "df.isna().sum()"
   ]
  },
  {
   "cell_type": "markdown",
   "id": "53c572b2",
   "metadata": {},
   "source": [
    "## 4 - Tratamento / limpeza dos dados"
   ]
  },
  {
   "cell_type": "code",
   "execution_count": 13,
   "id": "b7797815",
   "metadata": {},
   "outputs": [
    {
     "data": {
      "text/plain": [
       "(240, 5)"
      ]
     },
     "execution_count": 13,
     "metadata": {},
     "output_type": "execute_result"
    }
   ],
   "source": [
    "# Excluindo linhas que têm algum atributo nulo\n",
    "df.dropna(inplace=True)\n",
    "df.shape"
   ]
  },
  {
   "cell_type": "code",
   "execution_count": 14,
   "id": "f9883edd",
   "metadata": {},
   "outputs": [
    {
     "data": {
      "text/plain": [
       "titulo        0\n",
       "descricao     0\n",
       "url_imagem    0\n",
       "link          0\n",
       "categoria     0\n",
       "dtype: int64"
      ]
     },
     "execution_count": 14,
     "metadata": {},
     "output_type": "execute_result"
    }
   ],
   "source": [
    "# Quantidade de valores nulos por atributo\n",
    "df.isna().sum()"
   ]
  },
  {
   "cell_type": "code",
   "execution_count": 15,
   "id": "9460868e",
   "metadata": {},
   "outputs": [
    {
     "data": {
      "text/plain": [
       " Economia                 11\n",
       " Guia de Compras          10\n",
       " Loterias                 10\n",
       " Ucrânia e Rússia          9\n",
       " Meio Ambiente             9\n",
       "                          ..\n",
       " Amapá                     1\n",
       " Monitor da Violência      1\n",
       " Viva Você                 1\n",
       " Rio Grande do Norte       1\n",
       " G1 Turismo e Viagem       1\n",
       "Name: categoria, Length: 68, dtype: int64"
      ]
     },
     "execution_count": 15,
     "metadata": {},
     "output_type": "execute_result"
    }
   ],
   "source": [
    "# Quantidade de instâncias por categoria\n",
    "df['categoria'].value_counts()"
   ]
  },
  {
   "cell_type": "markdown",
   "id": "40593023",
   "metadata": {},
   "source": [
    "### 5 - Exportando dataframe do pandas para CSV"
   ]
  },
  {
   "cell_type": "code",
   "execution_count": 20,
   "id": "111c497b",
   "metadata": {},
   "outputs": [],
   "source": [
    "df.to_csv('g1result.csv', index=False, encoding='utf-8')"
   ]
  },
  {
   "cell_type": "code",
   "execution_count": null,
   "id": "8d6bbbac",
   "metadata": {},
   "outputs": [],
   "source": []
  }
 ],
 "metadata": {
  "kernelspec": {
   "display_name": "Python 3 (ipykernel)",
   "language": "python",
   "name": "python3"
  },
  "language_info": {
   "codemirror_mode": {
    "name": "ipython",
    "version": 3
   },
   "file_extension": ".py",
   "mimetype": "text/x-python",
   "name": "python",
   "nbconvert_exporter": "python",
   "pygments_lexer": "ipython3",
   "version": "3.9.7"
  }
 },
 "nbformat": 4,
 "nbformat_minor": 5
}
